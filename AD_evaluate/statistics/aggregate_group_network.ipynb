{
 "cells": [
  {
   "cell_type": "code",
   "execution_count": 1,
   "id": "initial_id",
   "metadata": {
    "ExecuteTime": {
     "end_time": "2024-05-11T19:08:48.353353300Z",
     "start_time": "2024-05-11T19:08:42.407492100Z"
    }
   },
   "outputs": [],
   "source": [
    "import numpy as np\n",
    "import pandas as pd\n",
    "import os\n",
    "import torch\n",
    "from scipy import stats\n",
    "from statsmodels.stats.multitest import multipletests\n",
    "import scanpy as sc\n",
    "import matplotlib.pyplot as plt"
   ]
  },
  {
   "cell_type": "code",
   "execution_count": 2,
   "id": "27b5dcd7ebff8b0e",
   "metadata": {
    "ExecuteTime": {
     "end_time": "2024-05-11T19:08:48.398580100Z",
     "start_time": "2024-05-11T19:08:48.354354200Z"
    },
    "collapsed": false,
    "jupyter": {
     "outputs_hidden": false
    }
   },
   "outputs": [],
   "source": [
    "to_save_dir=\"../edges/\"\n",
    "data_dir=\"../../data/AD/processed/\"\n",
    "genes = torch.load(\"/\".join(data_dir.split(\"/\")[:-2]) + \"/genes.pth\")\n",
    "\n",
    "\n",
    "cell_types=['Astrocyte', 'Chandelier', 'Endothelial', 'L2/3 IT', 'L4 IT', 'L5 ET', 'L5 IT', 'L5/6 NP', 'L6 CT', 'L6 IT', 'L6 IT Car3', 'L6b', 'Lamp5', 'Lamp5 Lhx6', 'Microglia-PVM', 'OPC', 'Oligodendrocyte', 'Pax6', 'Pvalb', 'Sncg', 'Sst', 'Sst Chodl', 'VLMC', 'Vip']\n",
    "\n",
    "samples=['H20.33.001.CX28.MTG.02.007.1.02.02', 'H20.33.001.CX28.MTG.02.007.1.02.03', 'H20.33.001.Cx28.MTG.02.007.1.01.03', 'H20.33.004.Cx26.MTG.02.007.1.01.04', 'H20.33.004.Cx26.MTG.02.007.1.01.05', 'H20.33.004.Cx26.MTG.02.007.1.02.02', 'H20.33.004.Cx26.MTG.02.007.1.02.03', 'H20.33.004.Cx26.MTG.02.007.1.02.04', 'H20.33.012.Cx24.MTG.02.007.1.01.01', 'H20.33.012.Cx24.MTG.02.007.1.03.02', 'H20.33.012.Cx24.MTG.02.007.1.03.03', 'H20.33.015.CX24.MTG.02.007.1.03.01', 'H20.33.015.CX24.MTG.02.007.1.03.02', 'H20.33.015.Cx24.MTG.02.007.1.03.03', 'H20.33.025.Cx28.MTG.02.007.1.01.02', 'H20.33.025.Cx28.MTG.02.007.1.01.04', 'H20.33.025.Cx28.MTG.02.007.1.01.06', 'H20.33.035.Cx26.MTG.02.007.1.01.03', 'H20.33.035.Cx26.MTG.02.007.1.01.04', 'H20.33.040.Cx25.MTG.02.007.1.01.03', 'H20.33.040.Cx25.MTG.02.007.1.01.04', 'H20.33.044.Cx26.MTG.02.007.1.01.02', 'H20.33.044.Cx26.MTG.02.007.1.01.03', 'H20.33.044.Cx26.MTG.02.007.1.01.04', 'H21.33.001.Cx22.MTG.02.007.1.01.03', 'H21.33.001.Cx22.MTG.02.007.1.01.04', 'H21.33.005.Cx18.MTG.02.007.02.03', 'H21.33.005.Cx18.MTG.02.007.02.04', 'H21.33.006.Cx28.MTG.02.007.1.01.09.02', 'H21.33.006.Cx28.MTG.02.007.1.01.09.03', 'H21.33.006.Cx28.MTG.02.007.1.01.09.04', 'H21.33.011.Cx26.MTG.02.007.3.01.04', 'H21.33.011.Cx26.MTG.02.007.3.01.05', 'H21.33.011.Cx26.MTG.02.007.3.01.06', 'H21.33.012.Cx26.MTG.02.007.1.01.04', 'H21.33.012.Cx26.MTG.02.007.1.01.05', 'H21.33.012.Cx26.MTG.02.007.1.01.06', 'H21.33.013.Cx24.MTG.02.007.1.06', 'H21.33.014.CX26.MTG.02.007.1.02.02', 'H21.33.015.Cx26.MTG.02.007.1.0', 'H21.33.015.Cx26.MTG.02.007.1.1', 'H21.33.015.Cx26.MTG.02.007.1.2', 'H21.33.016.Cx26.MTG.02.007.3.01.01', 'H21.33.016.Cx26.MTG.02.007.3.01.02', 'H21.33.016.Cx26.MTG.02.007.3.01.03', 'H21.33.019.Cx30.MTG.02.007.5.0', 'H21.33.019.Cx30.MTG.02.007.5.01.01', 'H21.33.019.Cx30.MTG.02.007.5.01.02', 'H21.33.021.Cx26.MTG.02.007.1.04', 'H21.33.021.Cx26.MTG.02.007.1.06', 'H21.33.022.Cx26.MTG.02.007.2.M.02', 'H21.33.022.Cx26.MTG.02.007.2.M.03', 'H21.33.022.Cx26.MTG.02.007.2.M.04', 'H21.33.023.Cx26.MTG.02.007.1.03.01', 'H21.33.023.Cx26.MTG.02.007.1.03.04', 'H21.33.023.Cx26.MTG.02.007.1.03.05', 'H21.33.025.CX26.MTG.02.007.4.01.02', 'H21.33.025.CX26.MTG.02.007.4.01.04', 'H21.33.025.CX26.MTG.02.007.4.01.06', 'H21.33.028.CX28.MTG.02.007.1.01.01', 'H21.33.028.Cx28.MTG.02.007.1.02.02', 'H21.33.028.Cx28.MTG.02.007.1.02.04', 'H21.33.031.CX24.MTG.02.007.1.01.01', 'H21.33.031.CX24.MTG.02.007.1.01.02', 'H21.33.032.CX24.MTG.02.007.1.01.04', 'H21.33.038.Cx20.MTG.02.007.3.01.02', 'H21.33.038.Cx20.MTG.02.007.3.01.04', 'H21.33.040.Cx22.MTG.02.007.3.03.01', 'H21.33.040.Cx22.MTG.02.007.3.03.03', 'H21.33.040.Cx22.MTG.02.007.3.03.04']\n",
    "\n",
    "cell_type_pair_sequence=[]\n",
    "for cell_typei in cell_types:\n",
    "    for cell_typej in cell_types:\n",
    "        cell_type_pair_sequence.append(cell_typei+\"__\"+cell_typej)\n",
    "\n",
    "meta_rank={\n",
    "  \"Overall AD neuropathological Change\": {\"Not AD\": 1, \"Low\": 2, \"Intermediate\": 3, \"High\": 4},\n",
    "  \"Thal\": {\"Thal 0\": 1, \"Thal 1\": 2, \"Thal 2\": 3, \"Thal 3\": 4, \"Thal 4\": 5, \"Thal 5\": 6},\n",
    "  \"Braak\": {\"Braak 0\": 1, \"Braak II\": 2, \"Braak III\": 3, \"Braak IV\": 4, \"Braak V\": 5, \"Braak VI\": 6},\n",
    "  \"CERAD score\": {\"Absent\": 1, \"Sparse\": 2, \"Moderate\": 3, \"Frequent\": 4},\n",
    "  \"Overall CAA Score\": {\"Not identified\": 1, \"Mild\": 2, \"Moderate\": 3},\n",
    "  \"Highest Lewy Body Disease\": {\n",
    "    \"Not Identified (olfactory bulb not assessed)\": 1,\n",
    "    \"Not Identified (olfactory bulb assessed)\": 2,\n",
    "    \"Olfactory bulb only\": 3,\n",
    "    \"Brainstem-predominant\": 4,\n",
    "    \"Limbic (Transitional)\": 5,\n",
    "    \"Neocortical (Diffuse)\": 6\n",
    "  },\n",
    "  \"Atherosclerosis\": {\"None\": 1, \"Mild\": 2, \"Moderate\": 3},\n",
    "  \"Arteriolosclerosis\": {\"Mild\": 1, \"Moderate\": 2, \"Severe\": 3},\n",
    "  \"LATE\": {\"Not Identified\": 1, \"LATE Stage 1\": 2, \"LATE Stage 2\": 3, \"LATE Stage 3\": 4},\n",
    "  \"Cognitive Status\": {\"No dementia\": 1, \"Dementia\": 2}\n",
    "}\n",
    "\n",
    "cell_type_pair_sequence=[]\n",
    "for cell_typei in cell_types:\n",
    "    for cell_typej in cell_types:\n",
    "        cell_type_pair_sequence.append(cell_typei+\"__\"+cell_typej)"
   ]
  },
  {
   "cell_type": "code",
   "execution_count": 3,
   "id": "5b8d997fe9b7c066",
   "metadata": {
    "ExecuteTime": {
     "end_time": "2024-05-11T19:31:31.421865300Z",
     "start_time": "2024-05-11T19:31:31.419869300Z"
    },
    "collapsed": false,
    "jupyter": {
     "outputs_hidden": false
    }
   },
   "outputs": [],
   "source": [
    "metadata_df = pd.read_csv('metadata.csv', index_col=0)\n",
    "common_samples=list(set(samples).intersection(set(metadata_df.index.tolist())))\n",
    "\n",
    "useful_sample=[i for i in samples if i in common_samples]\n",
    "useful_index=[(i in useful_sample) for i in samples]"
   ]
  },
  {
   "cell_type": "code",
   "execution_count": 4,
   "id": "22ae771638d8bb31",
   "metadata": {
    "collapsed": false,
    "jupyter": {
     "outputs_hidden": false
    }
   },
   "outputs": [],
   "source": [
    "from scipy.stats import norm\n",
    "from statsmodels.stats.multitest import multipletests\n",
    "\n",
    "def filter_z_score(data1, type_I_cutoff=0.05, type_II_cutoff=0.05):\n",
    "    data=np.mean(data1,axis=0,keepdims=True)*np.sqrt(data1.shape[0])\n",
    "    # Convert z-scores to p-values (two-tailed)\n",
    "    p_values = 2 * (1 - norm.cdf(np.abs(data)))\n",
    "\n",
    "    # Shape of data\n",
    "    b, t, g = data.shape\n",
    "\n",
    "    # Initialize an array to hold adjusted p-values\n",
    "    adjusted_p_values = np.zeros_like(data)\n",
    "    p_cutoffs = np.zeros_like(data)\n",
    "\n",
    "    # Adjust p-values using the BH method along axis=1\n",
    "    for i in range(b):\n",
    "        for j in range(g):\n",
    "            # Extract the p-values for this particular set\n",
    "            original_p_values = p_values[i, :, j]\n",
    "            # Apply BH correction\n",
    "            _, adjusted_pvals, _, _ = multipletests(original_p_values, alpha=0.05, method='fdr_bh')\n",
    "            adjusted_p_values[i, :, j] = adjusted_pvals\n",
    "            \n",
    "            p_adj_cutoffj=np.max(original_p_values[adjusted_pvals<type_I_cutoff])\n",
    "            p_cutoffs[i, :, j]=np.ones_like(adjusted_pvals)*p_adj_cutoffj\n",
    "            \n",
    "    alphas=np.abs(norm.ppf(p_cutoffs.flatten()/2).reshape(p_cutoffs.shape))\n",
    "    type_II_error=np.abs(norm.cdf(-np.abs(data)+alphas)-norm.cdf(-np.abs(data)-alphas))\n",
    "    flags=(adjusted_p_values > type_I_cutoff) | (type_II_error > type_II_cutoff)\n",
    "    \n",
    "    # Set z-scores to 0 where the adjusted p-values are < 0.05\n",
    "    data[flags] = 0\n",
    "    return data"
   ]
  },
  {
   "cell_type": "code",
   "execution_count": 9,
   "id": "721309f5-39e0-4054-93a8-e69fcffe4aa4",
   "metadata": {},
   "outputs": [
    {
     "name": "stdout",
     "output_type": "stream",
     "text": [
      "(69, 576, 140) (69, 576, 140)\n"
     ]
    }
   ],
   "source": [
    "probablity_z=np.load(\"./z_regressionp/z_values.npy\")[useful_index,:,:]\n",
    "strength=np.abs(np.load(\"./z_strength_sign1/z_values.npy\")[useful_index,:,:])\n",
    "print(probablity_z.shape,strength.shape)\n",
    "\n",
    "probablity_z=filter_z_score(probablity_z)\n",
    "strength=np.where(probablity_z!=0,np.abs(strength),np.zeros_like(strength))\n",
    "strength=np.where(probablity_z>0,strength,-strength)\n",
    "meta=metadata_df.loc[useful_sample,'Cognitive Status'].values"
   ]
  },
  {
   "cell_type": "code",
   "execution_count": 10,
   "id": "7c3e82a2-a852-44e2-aac6-afad797be1a4",
   "metadata": {},
   "outputs": [],
   "source": [
    "probablity_z=probablity_z.squeeze(axis=0)\n",
    "df=pd.DataFrame(data=probablity_z,columns=genes,index=cell_type_pair_sequence)\n",
    "df.to_csv(\"./Aggregated/all.csv\")"
   ]
  },
  {
   "cell_type": "code",
   "execution_count": 11,
   "id": "57cf0b28-ba5f-4919-9b1f-04810439a7dc",
   "metadata": {},
   "outputs": [],
   "source": [
    "import scipy.stats as stats\n",
    "from statsmodels.stats.multitest import multipletests\n",
    "\n",
    "def group_comparison(data, meta, cutoff=0.1):\n",
    "    # Extract unique groups\n",
    "    groups = np.unique(meta)\n",
    "    if len(groups) != 2:\n",
    "        raise ValueError(\"Meta should contain exactly two unique groups.\")\n",
    "    \n",
    "    group1_indices = np.where(meta == groups[0])[0]\n",
    "    group2_indices = np.where(meta == groups[1])[0]\n",
    "    \n",
    "    s, t, c = data.shape\n",
    "    p_values = np.zeros((t, c))\n",
    "    \n",
    "    # Perform Wilcoxon rank sum tests\n",
    "    for i in range(t):\n",
    "        for j in range(c):\n",
    "            group1_data = data[group1_indices, i, j]\n",
    "            group2_data = data[group2_indices, i, j]\n",
    "            \n",
    "            if np.all(group1_data == 0) and np.all(group2_data == 0):\n",
    "                p_values[i, j] = 1\n",
    "            else:\n",
    "                _, p_val = stats.ranksums(group1_data, group2_data)\n",
    "                p_values[i, j] = p_val\n",
    "    \n",
    "    # Adjust p-values using FDR-BH\n",
    "    adjusted_p_values = np.zeros_like(p_values)\n",
    "    for j in range(c):\n",
    "        valid_p = p_values[:, j] < 1  # Only consider p-values < 1 for adjustment\n",
    "        adjusted_p_values[valid_p, j] = multipletests(p_values[valid_p, j], method='fdr_bh')[1]\n",
    "\n",
    "    # Calculate mean differences\n",
    "    mean_diff = data[group1_indices].mean(axis=0) - data[group2_indices].mean(axis=0)\n",
    "    \n",
    "    # Zero out mean differences where adjusted p-values are above the cutoff\n",
    "    mean_diff[adjusted_p_values > cutoff] = 0\n",
    "    \n",
    "    return mean_diff\n",
    "\n",
    "diff=group_comparison(strength,meta)"
   ]
  },
  {
   "cell_type": "code",
   "execution_count": 8,
   "id": "137ca721-36bc-4830-b3cf-0a1a5871f586",
   "metadata": {},
   "outputs": [],
   "source": [
    "df_diff=pd.DataFrame(data=diff,columns=genes,index=cell_type_pair_sequence)\n",
    "df_diff.to_csv(\"./Aggregated/diff.csv\")"
   ]
  },
  {
   "cell_type": "code",
   "execution_count": null,
   "id": "46b0b93f-c2bb-4edd-85e5-7c5cef5bc336",
   "metadata": {},
   "outputs": [],
   "source": []
  }
 ],
 "metadata": {
  "kernelspec": {
   "display_name": "Python 3 (ipykernel)",
   "language": "python",
   "name": "python3"
  },
  "language_info": {
   "codemirror_mode": {
    "name": "ipython",
    "version": 3
   },
   "file_extension": ".py",
   "mimetype": "text/x-python",
   "name": "python",
   "nbconvert_exporter": "python",
   "pygments_lexer": "ipython3",
   "version": "3.9.15"
  }
 },
 "nbformat": 4,
 "nbformat_minor": 5
}
