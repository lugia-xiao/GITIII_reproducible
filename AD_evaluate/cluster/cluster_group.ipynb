{
 "cells": [
  {
   "cell_type": "code",
   "execution_count": 1,
   "id": "ee2682f4-3e8c-4bef-a1ea-c806a23565fb",
   "metadata": {},
   "outputs": [],
   "source": [
    "import os\n",
    "import torch\n",
    "import numpy as np\n",
    "\n",
    "import scanpy as sc\n",
    "from anndata import AnnData\n",
    "\n",
    "result_dir = \"../edges/\"\n",
    "raw_type=True\n",
    "use_edge=True"
   ]
  },
  {
   "cell_type": "code",
   "execution_count": 2,
   "id": "eb6abd51-8726-4687-acc2-9c51691428ec",
   "metadata": {},
   "outputs": [],
   "source": [
    "def plot_all(adata,title,color='cell_type',select_type_number=None):\n",
    "    if select_type_number is not None:\n",
    "        unique=np.unique(adata.obs['cell_type'],return_counts=True)\n",
    "        args = np.argsort(-unique[1])[:select_type_number]\n",
    "        select_type = unique[0][args]\n",
    "        print(\"selecting edge types:\", select_type)\n",
    "        flag=[adata.obs['cell_type'][i] in select_type for i in range(adata.shape[0])]\n",
    "        adata_filtered=adata[flag,:]\n",
    "    else:\n",
    "        adata_filtered=adata\n",
    "\n",
    "    if adata_filtered.shape[0]<100:\n",
    "        print(title,\"no enough number\")\n",
    "        return 0\n",
    "    \n",
    "    sc.pp.scale(adata_filtered)\n",
    "    sc.tl.pca(adata_filtered, n_comps=50)\n",
    "    sc.pp.neighbors(adata_filtered)  # Compute the neighborhood graph\n",
    "    sc.tl.umap(adata_filtered)  # Compute UMAP\n",
    "    # Plot UMAP\n",
    "    sc.pl.umap(adata_filtered,title=title,color=color, show=True, save=title+\".pdf\")\n",
    "    if color!=\"cell_type\":\n",
    "        for cell_typei in np.unique(adata_filtered.obs['cell_type']):\n",
    "            adatai=adata_filtered[adata_filtered.obs['cell_type']==cell_typei]\n",
    "            sc.pl.umap(adatai,title=title+\"_\"+cell_typei,color=color, show=True, save=(title+\"_\"+cell_typei+\".pdf\").replace(\"/\", \"_\"))\n",
    "    return adata_filtered"
   ]
  },
  {
   "cell_type": "code",
   "execution_count": 3,
   "id": "07c873cb-0db5-4e54-b93f-b68b86f79aa4",
   "metadata": {},
   "outputs": [],
   "source": [
    "import pandas as pd\n",
    "meta_df=pd.read_csv(\"./metadata.csv\",index_col=\"Sample\")\n",
    "\n",
    "samples=['H20.33.004.Cx26.MTG.02.007.1.02.04', 'H20.33.004.Cx26.MTG.02.007.1.01.04', 'H20.33.004.Cx26.MTG.02.007.1.01.05', 'H21.33.011.Cx26.MTG.02.007.3.01.06', 'H21.33.016.Cx26.MTG.02.007.3.01.01', 'H21.33.028.CX28.MTG.02.007.1.01.01', 'H21.33.038.Cx20.MTG.02.007.3.01.02', 'H21.33.040.Cx22.MTG.02.007.3.03.03', 'H21.33.022.Cx26.MTG.02.007.2.M.02', 'H21.33.038.Cx20.MTG.02.007.3.01.04', 'H21.33.005.Cx18.MTG.02.007.02.04', 'H20.33.012.Cx24.MTG.02.007.1.01.01', 'H20.33.012.Cx24.MTG.02.007.1.03.03', 'H21.33.023.Cx26.MTG.02.007.1.03.01', 'H20.33.025.Cx28.MTG.02.007.1.01.02', 'H21.33.012.Cx26.MTG.02.007.1.01.06', 'H20.33.025.Cx28.MTG.02.007.1.01.04', 'H20.33.044.Cx26.MTG.02.007.1.01.04', 'H21.33.023.Cx26.MTG.02.007.1.03.05', 'H20.33.004.Cx26.MTG.02.007.1.02.03', 'H21.33.016.Cx26.MTG.02.007.3.01.02', 'H20.33.040.Cx25.MTG.02.007.1.01.03', 'H21.33.001.Cx22.MTG.02.007.1.01.04', 'H20.33.012.Cx24.MTG.02.007.1.03.02', 'H21.33.015.Cx26.MTG.02.007.1.2', 'H21.33.022.Cx26.MTG.02.007.2.M.03', 'H21.33.005.Cx18.MTG.02.007.02.03', 'H21.33.032.CX24.MTG.02.007.1.01.04', 'H21.33.022.Cx26.MTG.02.007.2.M.04', 'H21.33.006.Cx28.MTG.02.007.1.01.09.03', 'H21.33.015.Cx26.MTG.02.007.1.0', 'H20.33.035.Cx26.MTG.02.007.1.01.03', 'H20.33.015.Cx24.MTG.02.007.1.03.03', 'H21.33.021.Cx26.MTG.02.007.1.04', 'H21.33.025.CX26.MTG.02.007.4.01.04', 'H20.33.025.Cx28.MTG.02.007.1.01.06', 'H21.33.014.CX26.MTG.02.007.1.02.02', 'H21.33.040.Cx22.MTG.02.007.3.03.01', 'H21.33.016.Cx26.MTG.02.007.3.01.03', 'H21.33.021.Cx26.MTG.02.007.1.06', 'H21.33.013.Cx24.MTG.02.007.1.06', 'H21.33.015.Cx26.MTG.02.007.1.1', 'H20.33.001.CX28.MTG.02.007.1.02.03', 'H21.33.028.Cx28.MTG.02.007.1.02.04', 'H21.33.019.Cx30.MTG.02.007.5.01.02', 'H20.33.044.Cx26.MTG.02.007.1.01.03', 'H21.33.011.Cx26.MTG.02.007.3.01.04', 'H21.33.006.Cx28.MTG.02.007.1.01.09.04', 'H21.33.025.CX26.MTG.02.007.4.01.06', 'H21.33.012.Cx26.MTG.02.007.1.01.05', 'H20.33.015.CX24.MTG.02.007.1.03.01', 'H21.33.019.Cx30.MTG.02.007.5.0', 'H20.33.035.Cx26.MTG.02.007.1.01.04', 'H21.33.012.Cx26.MTG.02.007.1.01.04', 'H21.33.031.CX24.MTG.02.007.1.01.01', 'H21.33.040.Cx22.MTG.02.007.3.03.04', 'H20.33.015.CX24.MTG.02.007.1.03.02', 'H21.33.028.Cx28.MTG.02.007.1.02.02', 'H21.33.011.Cx26.MTG.02.007.3.01.05', 'H20.33.004.Cx26.MTG.02.007.1.02.02', 'H21.33.023.Cx26.MTG.02.007.1.03.04', 'H21.33.031.CX24.MTG.02.007.1.01.02', 'H20.33.001.CX28.MTG.02.007.1.02.02', 'H21.33.006.Cx28.MTG.02.007.1.01.09.02', 'H20.33.001.Cx28.MTG.02.007.1.01.03', 'H21.33.025.CX26.MTG.02.007.4.01.02', 'H20.33.040.Cx25.MTG.02.007.1.01.04', 'H21.33.001.Cx22.MTG.02.007.1.01.03', 'H20.33.044.Cx26.MTG.02.007.1.01.02']\n",
    "samples=list(set(samples).intersection(set(meta_df.index.tolist())))\n",
    "print(len(samples))\n",
    "\n",
    "sample_dict={}\n",
    "for i in range(len(samples)):\n",
    "    sample_dict[str(i)]=samples[i]\n",
    "\n",
    "def add_meta(adata):\n",
    "    for metai in ['Overall AD neuropathological Change', 'Thal', 'Braak', 'CERAD score', 'Overall CAA Score', 'Highest Lewy Body Disease', 'Atherosclerosis', 'Arteriolosclerosis', 'LATE', 'Cognitive Status']:\n",
    "        tmp=[meta_df.loc[sample_dict[adata.obs[\"batch\"][j]],metai] for j in range(len(adata.obs[\"batch\"]))]\n",
    "        adata.obs[metai]=tmp\n",
    "    return adata"
   ]
  },
  {
   "cell_type": "code",
   "execution_count": null,
   "id": "777ac07b-566d-4096-957a-64f64cefb840",
   "metadata": {},
   "outputs": [],
   "source": [
    "adata=sc.read_h5ad('../edges/merged_adata_filtered_all_3_softmax.h5ad')\n",
    "print(adata)\n",
    "adata=add_meta(adata)\n",
    "print(adata)\n",
    "\n",
    "metas=['Overall AD neuropathological Change', 'Thal', 'Braak', 'CERAD score', 'Overall CAA Score', 'Highest Lewy Body Disease', 'Atherosclerosis', 'Arteriolosclerosis', 'LATE', 'Cognitive Status']\n",
    "to_draw=[\"batch\",'cell_type']+list(reversed(metas))\n",
    "for metai in to_draw:\n",
    "    plot_all(adata,\"all_\"+metai,color=metai,select_type_number=None)"
   ]
  }
 ],
 "metadata": {
  "kernelspec": {
   "display_name": "Python 3 (ipykernel)",
   "language": "python",
   "name": "python3"
  },
  "language_info": {
   "codemirror_mode": {
    "name": "ipython",
    "version": 3
   },
   "file_extension": ".py",
   "mimetype": "text/x-python",
   "name": "python",
   "nbconvert_exporter": "python",
   "pygments_lexer": "ipython3",
   "version": "3.9.15"
  }
 },
 "nbformat": 4,
 "nbformat_minor": 5
}
