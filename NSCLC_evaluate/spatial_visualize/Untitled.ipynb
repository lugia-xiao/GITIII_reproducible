{
 "cells": [
  {
   "cell_type": "code",
   "execution_count": 3,
   "id": "9b57a68e-4ed2-43d7-911d-c4a121af2463",
   "metadata": {},
   "outputs": [
    {
     "name": "stdout",
     "output_type": "stream",
     "text": [
      "dict_keys(['edges', 'attention_score', 'position_x', 'position_y', 'cell_type_name', 'loss_all', 'loss_no_interact', 'y_pred', 'y'])\n"
     ]
    }
   ],
   "source": [
    "import torch\n",
    "import numpy as np\n",
    "import pandas as pd\n",
    "\n",
    "# Load the .pth file\n",
    "data = torch.load('../edges/edges_Lung6.pth')\n",
    "print(data.keys())"
   ]
  },
  {
   "cell_type": "code",
   "execution_count": 4,
   "id": "5a71a667-3d9f-4a5b-999b-a04b63f82649",
   "metadata": {},
   "outputs": [
    {
     "name": "stdout",
     "output_type": "stream",
     "text": [
      "       Cell_Type  Count\n",
      "0         B-cell    481\n",
      "1             NK    177\n",
      "2   T CD4 memory    606\n",
      "3    T CD4 naive    496\n",
      "4   T CD8 memory    536\n",
      "5    T CD8 naive    682\n",
      "6           Treg    315\n",
      "7    endothelial   2540\n",
      "8     epithelial   4075\n",
      "9     fibroblast   3167\n",
      "10           mDC    891\n",
      "11    macrophage   6621\n",
      "12          mast    253\n",
      "13      monocyte    291\n",
      "14    neutrophil    445\n",
      "15           pDC    468\n",
      "16   plasmablast    404\n",
      "17      tumor 12    442\n",
      "18      tumor 13    190\n",
      "19       tumor 5     59\n",
      "20       tumor 6  65905\n",
      "21       tumor 9     47\n"
     ]
    }
   ],
   "source": [
    "# Extract the \"cell_type_names\" list\n",
    "cell_type_names = data[\"cell_type_name\"]\n",
    "\n",
    "# Convert the list to a NumPy array\n",
    "cell_type_array = np.array(cell_type_names)\n",
    "\n",
    "# Get the first row [0,:]\n",
    "first_row = cell_type_array[:,0]\n",
    "\n",
    "# Get the unique values and their counts\n",
    "unique, counts = np.unique(first_row, return_counts=True)\n",
    "\n",
    "# Convert the result to a DataFrame\n",
    "df = pd.DataFrame({'Cell_Type': unique, 'Count': counts})\n",
    "\n",
    "# Print the DataFrame\n",
    "print(df)"
   ]
  },
  {
   "cell_type": "code",
   "execution_count": null,
   "id": "2cfa7635-83b0-4d7e-87a1-524fa501fa51",
   "metadata": {},
   "outputs": [],
   "source": []
  }
 ],
 "metadata": {
  "kernelspec": {
   "display_name": "Python 3 (ipykernel)",
   "language": "python",
   "name": "python3"
  },
  "language_info": {
   "codemirror_mode": {
    "name": "ipython",
    "version": 3
   },
   "file_extension": ".py",
   "mimetype": "text/x-python",
   "name": "python",
   "nbconvert_exporter": "python",
   "pygments_lexer": "ipython3",
   "version": "3.9.15"
  }
 },
 "nbformat": 4,
 "nbformat_minor": 5
}
