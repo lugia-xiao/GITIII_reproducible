{
 "cells": [
  {
   "cell_type": "code",
   "execution_count": 25,
   "id": "b2415bcb-db4f-4575-b65e-64ebc6da3f8a",
   "metadata": {},
   "outputs": [],
   "source": [
    "import commot as ct\n",
    "import scanpy as sc\n",
    "import pandas as pd\n",
    "import numpy as np\n",
    "import torch\n",
    "import anndata as ad"
   ]
  },
  {
   "cell_type": "markdown",
   "id": "c2f9a361-0c09-4cee-89d6-08da62e0d06b",
   "metadata": {},
   "source": [
    "# Mouse brain dataset"
   ]
  },
  {
   "cell_type": "code",
   "execution_count": 46,
   "id": "cdad1ee9-4968-4118-8982-6f2f1d377ae0",
   "metadata": {},
   "outputs": [
    {
     "name": "stdout",
     "output_type": "stream",
     "text": [
      "(6137, 275)\n",
      "AnnData object with n_obs × n_vars = 6137 × 254\n",
      "    obs: 'centerx', 'centery'\n",
      "    obsm: 'spatial'\n"
     ]
    }
   ],
   "source": [
    "df=pd.read_csv(\"./data/mouse/mouse.csv\")\n",
    "df=df[df['slice_id']==\"mouse1_slice201\"].copy()\n",
    "print(df.shape)\n",
    "genes=torch.load(\"./data/mouse/genes.pth\")\n",
    "adata=ad.AnnData(X=df[genes].values)\n",
    "adata.obs[\"centerx\"]=df[\"centerx\"].values\n",
    "adata.obs[\"centery\"]=df[\"centery\"].values\n",
    "adata.obsm[\"spatial\"]=np.stack([df[\"centerx\"].values,df[\"centery\"].values],axis=-1)\n",
    "adata.var_names=genes\n",
    "print(adata)"
   ]
  },
  {
   "cell_type": "code",
   "execution_count": 47,
   "id": "35f5e121-ee91-46cd-b2e6-94557946c68a",
   "metadata": {},
   "outputs": [],
   "source": [
    "sc.pp.normalize_total(adata, inplace=True)\n",
    "sc.pp.log1p(adata)\n",
    "df_ligrec=ct.pp.ligand_receptor_database(database='CellChat', species='mouse')"
   ]
  },
  {
   "cell_type": "code",
   "execution_count": 48,
   "id": "a8bf7953-8026-4816-b0c3-7a16ccb1d53f",
   "metadata": {},
   "outputs": [],
   "source": [
    "ct.tl.spatial_communication(adata, database_name='user_database', df_ligrec=df_ligrec, dis_thr=200, heteromeric=True)"
   ]
  },
  {
   "cell_type": "code",
   "execution_count": 49,
   "id": "f0021ac3-a79f-4a1d-b0bd-e88967689e91",
   "metadata": {},
   "outputs": [],
   "source": [
    "adata.write_h5ad(\"./COMMOT/mouse.h5ad\")"
   ]
  },
  {
   "cell_type": "markdown",
   "id": "dc6a0db9-1e11-4979-82f6-113546587801",
   "metadata": {},
   "source": [
    "# AD dataset"
   ]
  },
  {
   "cell_type": "code",
   "execution_count": 42,
   "id": "2fcbc099-9448-477c-881f-bed374108020",
   "metadata": {},
   "outputs": [
    {
     "name": "stdout",
     "output_type": "stream",
     "text": [
      "Index(['PRRT4', 'GRIP2', 'FOXP2', 'PDZD2', 'KIAA1217', 'PALMD', 'LRRC4C',\n",
      "       'ASIC2', 'NPAS3', 'LUZP2',\n",
      "       ...\n",
      "       'ADAMTSL1', 'CHODL', 'SULF1', 'NRG1', 'NXPH2', 'TLL1', 'centerx',\n",
      "       'centery', 'section', 'subclass'],\n",
      "      dtype='object', length=144)\n",
      "AnnData object with n_obs × n_vars = 15225 × 140\n",
      "    obs: 'centerx', 'centery'\n",
      "    obsm: 'spatial'\n"
     ]
    }
   ],
   "source": [
    "df=pd.read_csv(\"./data/AD/AD.csv\")\n",
    "df=df[df[\"section\"]==\"H20.33.001.CX28.MTG.02.007.1.02.03\"].copy()\n",
    "print(df.columns)\n",
    "genes=torch.load(\"./data/AD/genes.pth\")\n",
    "adata=ad.AnnData(X=df[genes].values)\n",
    "adata.obs[\"centerx\"]=df[\"centerx\"].values\n",
    "adata.obs[\"centery\"]=df[\"centery\"].values\n",
    "adata.obsm[\"spatial\"]=np.stack([df[\"centerx\"].values,df[\"centery\"].values],axis=-1)\n",
    "adata.var_names=genes\n",
    "print(adata)"
   ]
  },
  {
   "cell_type": "code",
   "execution_count": 43,
   "id": "0907b7e1-9060-4951-8ddf-cc53f49e154b",
   "metadata": {},
   "outputs": [],
   "source": [
    "sc.pp.normalize_total(adata, inplace=True)\n",
    "sc.pp.log1p(adata)"
   ]
  },
  {
   "cell_type": "code",
   "execution_count": 44,
   "id": "68d967c4-050e-427c-ba2d-0aed943f35d5",
   "metadata": {},
   "outputs": [
    {
     "name": "stdout",
     "output_type": "stream",
     "text": [
      "           0              1          2                   3\n",
      "0      TGFB1  TGFBR1_TGFBR2       TGFb  Secreted Signaling\n",
      "1      TGFB2  TGFBR1_TGFBR2       TGFb  Secreted Signaling\n",
      "2      TGFB3  TGFBR1_TGFBR2       TGFb  Secreted Signaling\n",
      "3      TGFB1  ACVR1B_TGFBR2       TGFb  Secreted Signaling\n",
      "4      TGFB1  ACVR1C_TGFBR2       TGFb  Secreted Signaling\n",
      "...      ...            ...        ...                 ...\n",
      "1194   UTS2B          UTS2R  UROTENSIN  Secreted Signaling\n",
      "1195   UTS2B          SSTR5  UROTENSIN  Secreted Signaling\n",
      "1196    BAG6           NCR3        BAG  Secreted Signaling\n",
      "1197  LGALS9         HAVCR2   GALECTIN  Secreted Signaling\n",
      "1198  LGALS9           CD44   GALECTIN  Secreted Signaling\n",
      "\n",
      "[1199 rows x 4 columns]\n"
     ]
    }
   ],
   "source": [
    "df_ligrec=ct.pp.ligand_receptor_database(database='CellChat', species='human')\n",
    "print(df_ligrec)"
   ]
  },
  {
   "cell_type": "code",
   "execution_count": 45,
   "id": "aaa9222b-a9bf-4cfa-bf50-d5b1b48a4800",
   "metadata": {},
   "outputs": [
    {
     "name": "stdout",
     "output_type": "stream",
     "text": [
      "single positional indexer is out-of-bounds\n"
     ]
    }
   ],
   "source": [
    "try:\n",
    "    ct.tl.spatial_communication(adata, database_name='user_database', df_ligrec=df_ligrec, dis_thr=200, heteromeric=True)\n",
    "except Exception as e:\n",
    "    print(e)"
   ]
  },
  {
   "cell_type": "markdown",
   "id": "9fee7011-ae3e-4e4c-9c0d-21f32dd169e4",
   "metadata": {},
   "source": [
    "# NSCLC dataset"
   ]
  },
  {
   "cell_type": "code",
   "execution_count": 51,
   "id": "97e4749e-f0e5-4e1a-acbf-542d6f33c0c5",
   "metadata": {},
   "outputs": [
    {
     "name": "stdout",
     "output_type": "stream",
     "text": [
      "Index(['fov', 'cell_ID', 'AATK', 'ABL1', 'ABL2', 'ACE', 'ACE2', 'ACKR1',\n",
      "       'ACKR3', 'ACKR4',\n",
      "       ...\n",
      "       'SampleID', 'Area', 'AspectRatio', 'CenterX_local_px',\n",
      "       'CenterY_local_px', 'CenterX_global_px', 'CenterY_global_px', 'Width',\n",
      "       'Height', 'section'],\n",
      "      dtype='object', length=974)\n",
      "AnnData object with n_obs × n_vars = 89948 × 960\n",
      "    obs: 'centerx', 'centery'\n",
      "    obsm: 'spatial'\n"
     ]
    }
   ],
   "source": [
    "df=pd.read_csv(\"./data/NSCLC/NSCLC.csv\")\n",
    "df=df[df[\"section\"]==\"Lung6\"].copy()\n",
    "print(df.columns)\n",
    "genes=torch.load(\"./data/NSCLC/genes.pth\")\n",
    "adata=ad.AnnData(X=df[genes].values)\n",
    "adata.obs[\"centerx\"]=df['CenterX_global_px'].values\n",
    "adata.obs[\"centery\"]=df['CenterY_global_px'].values\n",
    "adata.obsm[\"spatial\"]=np.stack([df['CenterX_global_px'].values,df['CenterY_global_px'].values],axis=-1)\n",
    "adata.var_names=genes\n",
    "print(adata)"
   ]
  },
  {
   "cell_type": "code",
   "execution_count": 52,
   "id": "f968bc27-a5fa-4e49-b1ca-ac9f4d74ccc0",
   "metadata": {},
   "outputs": [],
   "source": [
    "sc.pp.normalize_total(adata, inplace=True)\n",
    "sc.pp.log1p(adata)"
   ]
  },
  {
   "cell_type": "code",
   "execution_count": 53,
   "id": "8cf156bd-b034-47eb-86fa-773bd882412e",
   "metadata": {},
   "outputs": [
    {
     "name": "stdout",
     "output_type": "stream",
     "text": [
      "           0              1          2                   3\n",
      "0      TGFB1  TGFBR1_TGFBR2       TGFb  Secreted Signaling\n",
      "1      TGFB2  TGFBR1_TGFBR2       TGFb  Secreted Signaling\n",
      "2      TGFB3  TGFBR1_TGFBR2       TGFb  Secreted Signaling\n",
      "3      TGFB1  ACVR1B_TGFBR2       TGFb  Secreted Signaling\n",
      "4      TGFB1  ACVR1C_TGFBR2       TGFb  Secreted Signaling\n",
      "...      ...            ...        ...                 ...\n",
      "1194   UTS2B          UTS2R  UROTENSIN  Secreted Signaling\n",
      "1195   UTS2B          SSTR5  UROTENSIN  Secreted Signaling\n",
      "1196    BAG6           NCR3        BAG  Secreted Signaling\n",
      "1197  LGALS9         HAVCR2   GALECTIN  Secreted Signaling\n",
      "1198  LGALS9           CD44   GALECTIN  Secreted Signaling\n",
      "\n",
      "[1199 rows x 4 columns]\n"
     ]
    }
   ],
   "source": [
    "df_ligrec=ct.pp.ligand_receptor_database(database='CellChat', species='human')\n",
    "print(df_ligrec)"
   ]
  },
  {
   "cell_type": "code",
   "execution_count": 54,
   "id": "0d20588a-33b0-4ee4-afc4-4b6f6582eab3",
   "metadata": {},
   "outputs": [],
   "source": [
    "ct.tl.spatial_communication(adata, database_name='user_database', df_ligrec=df_ligrec, dis_thr=200, heteromeric=True)"
   ]
  },
  {
   "cell_type": "code",
   "execution_count": 55,
   "id": "a6b79ca0-30a6-4121-a921-16a4a10c83a7",
   "metadata": {
    "scrolled": true
   },
   "outputs": [
    {
     "name": "stdout",
     "output_type": "stream",
     "text": [
      "AnnData object with n_obs × n_vars = 89948 × 960\n",
      "    obs: 'centerx', 'centery'\n",
      "    uns: 'log1p', 'commot-user_database-info'\n",
      "    obsm: 'spatial', 'commot-user_database-sum-sender', 'commot-user_database-sum-receiver'\n",
      "    obsp: 'commot-user_database-MIF-ACKR3', 'commot-user_database-MIF-CD74_CXCR4', 'commot-user_database-MIF-CD74_CD44', 'commot-user_database-MIF-CD74_CXCR2', 'commot-user_database-FGF18-FGFR2', 'commot-user_database-FGF18-FGFR1', 'commot-user_database-FGF18-FGFR3', 'commot-user_database-FASLG-FAS', 'commot-user_database-CXCL10-ACKR1', 'commot-user_database-CXCL10-CXCR3', 'commot-user_database-ANGPT1-TEK', 'commot-user_database-CXCL12-ACKR3', 'commot-user_database-CXCL12-CXCR4', 'commot-user_database-PDGFA-PDGFRA', 'commot-user_database-PDGFA-PDGFRB', 'commot-user_database-WNT11-FZD1', 'commot-user_database-WNT11-FZD3', 'commot-user_database-WNT11-FZD7', 'commot-user_database-WNT11-FZD4', 'commot-user_database-WNT11-FZD8', 'commot-user_database-WNT11-FZD5', 'commot-user_database-WNT11-FZD6', 'commot-user_database-VEGFB-FLT1', 'commot-user_database-IL12A_IL12B-IL12RB1_IL12RB2', 'commot-user_database-VEGFA-KDR', 'commot-user_database-VEGFA-FLT1', 'commot-user_database-VEGFA-FLT1_KDR', 'commot-user_database-TGFB1-TGFBR1_TGFBR2', 'commot-user_database-TGFB1-ACVR1_TGFBR1_TGFBR2', 'commot-user_database-TGFB1-ACVR1B_TGFBR2', 'commot-user_database-NRG1-ERBB3', 'commot-user_database-NRG1-ERBB2_ERBB3', 'commot-user_database-CXCL3-ACKR1', 'commot-user_database-CXCL3-CXCR2', 'commot-user_database-CXCL3-CXCR1', 'commot-user_database-CCL2-ACKR1', 'commot-user_database-CCL2-CCR2', 'commot-user_database-GDF15-TGFBR2', 'commot-user_database-BMP2-BMPR1A_ACVR2A', 'commot-user_database-BMP2-BMPR1A_BMPR2', 'commot-user_database-INS-INSR', 'commot-user_database-CCL3-CCR5', 'commot-user_database-CCL3-CCR1', 'commot-user_database-IL2-IL2RB_IL2RG', 'commot-user_database-IL11-IL11RA_IL6ST', 'commot-user_database-WNT5B-FZD1', 'commot-user_database-WNT5B-FZD3', 'commot-user_database-WNT5B-FZD7', 'commot-user_database-WNT5B-FZD4', 'commot-user_database-WNT5B-FZD8', 'commot-user_database-WNT5B-FZD5', 'commot-user_database-WNT5B-FZD6', 'commot-user_database-IFNG-IFNGR1_IFNGR2', 'commot-user_database-CCL8-ACKR1', 'commot-user_database-CCL8-CCR2', 'commot-user_database-CCL8-CCR1', 'commot-user_database-CCL8-ACKR4', 'commot-user_database-PDGFC-PDGFRA', 'commot-user_database-KITLG-KIT', 'commot-user_database-IL1B-IL1R1_IL1RAP', 'commot-user_database-IL1B-IL1R2', 'commot-user_database-PDGFD-PDGFRB', 'commot-user_database-TGFB3-TGFBR1_TGFBR2', 'commot-user_database-TGFB3-ACVR1_TGFBR1_TGFBR2', 'commot-user_database-TGFB3-ACVR1B_TGFBR2', 'commot-user_database-VEGFD-KDR', 'commot-user_database-CCL4-CCR5', 'commot-user_database-TNFSF14-TNFRSF14', 'commot-user_database-TNFSF14-LTBR', 'commot-user_database-IGF2-IGF1R', 'commot-user_database-IGF2-IGF2R', 'commot-user_database-IGF2-ITGA6_ITGB4', 'commot-user_database-BMP7-BMPR1A_ACVR2A', 'commot-user_database-BMP7-BMPR1A_BMPR2', 'commot-user_database-BMP7-ACVR1_BMPR2', 'commot-user_database-BMP7-ACVR1_ACVR2A', 'commot-user_database-PF4-CXCR3', 'commot-user_database-TGFB2-TGFBR1_TGFBR2', 'commot-user_database-TGFB2-ACVR1_TGFBR1_TGFBR2', 'commot-user_database-TGFB2-ACVR1B_TGFBR2', 'commot-user_database-IL17B-IL17RB', 'commot-user_database-CCL21-CCR7', 'commot-user_database-CCL21-ACKR4', 'commot-user_database-TNFSF12-TNFRSF12A', 'commot-user_database-IFNA1-IFNAR1_IFNAR2', 'commot-user_database-CLCF1-CNTFR_LIFR_IL6ST', 'commot-user_database-TNFSF10-TNFRSF10A', 'commot-user_database-CXCL6-ACKR1', 'commot-user_database-CXCL6-CXCR2', 'commot-user_database-CXCL6-CXCR1', 'commot-user_database-TNFSF13B-TNFRSF17', 'commot-user_database-TNFSF13B-TNFRSF13B', 'commot-user_database-CX3CL1-CX3CR1', 'commot-user_database-BMP6-BMPR1A_ACVR2A', 'commot-user_database-BMP6-BMPR1A_BMPR2', 'commot-user_database-BMP6-ACVR1_BMPR2', 'commot-user_database-BMP6-ACVR1_ACVR2A', 'commot-user_database-CXCL5-ACKR1', 'commot-user_database-CXCL5-CXCR2', 'commot-user_database-CXCL5-CXCR1', 'commot-user_database-INHBA-ACVR1B_ACVR2A', 'commot-user_database-IL33-IL1RL1_IL1RAP', 'commot-user_database-BMP4-BMPR1A_ACVR2A', 'commot-user_database-BMP4-BMPR1A_BMPR2', 'commot-user_database-BMP5-BMPR1A_ACVR2A', 'commot-user_database-BMP5-BMPR1A_BMPR2', 'commot-user_database-BMP5-ACVR1_BMPR2', 'commot-user_database-BMP5-ACVR1_ACVR2A', 'commot-user_database-IL1A-IL1R1_IL1RAP', 'commot-user_database-IL1A-IL1R2', 'commot-user_database-FGF2-FGFR2', 'commot-user_database-FGF2-FGFR1', 'commot-user_database-FGF2-FGFR3', 'commot-user_database-CCL13-ACKR1', 'commot-user_database-CCL13-CCR1', 'commot-user_database-CCL13-ACKR4', 'commot-user_database-GDF9-ACVR1B_BMPR2', 'commot-user_database-LGALS9-PTPRC', 'commot-user_database-LGALS9-HAVCR2', 'commot-user_database-LGALS9-CD44', 'commot-user_database-AREG-EGFR', 'commot-user_database-AREG-EGFR_ERBB2', 'commot-user_database-SPP1-ITGAV_ITGB5', 'commot-user_database-SPP1-ITGA9_ITGB1', 'commot-user_database-SPP1-CD44', 'commot-user_database-SPP1-ITGA5_ITGB1', 'commot-user_database-SPP1-ITGAV_ITGB1', 'commot-user_database-SPP1-ITGAV_ITGB6', 'commot-user_database-CXCL1-ACKR1', 'commot-user_database-CXCL1-CXCR2', 'commot-user_database-CXCL1-CXCR1', 'commot-user_database-CCL18-ACKR1', 'commot-user_database-FGF1-FGFR2', 'commot-user_database-FGF1-FGFR1', 'commot-user_database-FGF1-FGFR3', 'commot-user_database-IL10-IL10RA_IL10RB', 'commot-user_database-WNT5A-FZD1', 'commot-user_database-WNT5A-FZD3', 'commot-user_database-WNT5A-FZD7', 'commot-user_database-WNT5A-FZD4', 'commot-user_database-WNT5A-FZD8', 'commot-user_database-WNT5A-FZD5', 'commot-user_database-WNT5A-FZD6', 'commot-user_database-IL34-CSF1R', 'commot-user_database-CD70-CD27', 'commot-user_database-NPPC-NPR2', 'commot-user_database-CCL7-ACKR1', 'commot-user_database-CCL7-CCR2', 'commot-user_database-CCL7-CCR1', 'commot-user_database-IL7-IL7R_IL2RG', 'commot-user_database-CSF2-CSF2RA_CSF2RB', 'commot-user_database-IL6-IL6R_IL6ST', 'commot-user_database-CSF3-CSF3R', 'commot-user_database-CXCL16-CXCR6', 'commot-user_database-TNFSF18-TNFRSF18', 'commot-user_database-CCL3L3-CCR1', 'commot-user_database-FGF9-FGFR2', 'commot-user_database-FGF9-FGFR1', 'commot-user_database-FGF9-FGFR3', 'commot-user_database-IL15-IL15RA_IL2RB_IL2RG', 'commot-user_database-ANXA1-FPR1', 'commot-user_database-GDF10-ACVR1B_ACVR2A', 'commot-user_database-RARRES2-CMKLR1', 'commot-user_database-GDF6-BMPR1A_ACVR2A', 'commot-user_database-GDF6-BMPR1A_BMPR2', 'commot-user_database-ANGPTL1-ITGA1_ITGB1', 'commot-user_database-INHBA_INHBB-ACVR1B_ACVR2A', 'commot-user_database-CCL11-ACKR1', 'commot-user_database-LIF-LIFR_IL6ST', 'commot-user_database-CXCL9-ACKR1', 'commot-user_database-CXCL9-CXCR3', 'commot-user_database-PPBP-CXCR2', 'commot-user_database-TNFSF4-TNFRSF4', 'commot-user_database-INHBB-ACVR1B_ACVR2A', 'commot-user_database-FGF7-FGFR2', 'commot-user_database-FGF7-FGFR1', 'commot-user_database-CCL28-CCR10', 'commot-user_database-TNF-TNFRSF1B', 'commot-user_database-TNF-TNFRSF1A', 'commot-user_database-VEGFC-KDR', 'commot-user_database-PROK2-PROKR1', 'commot-user_database-ANGPT2-ITGA5_ITGB1', 'commot-user_database-ANGPT2-TEK', 'commot-user_database-KLK3-NGFR', 'commot-user_database-OSM-LIFR_IL6ST', 'commot-user_database-OSM-OSMR_IL6ST', 'commot-user_database-HGF-MET', 'commot-user_database-INHA_INHBA-ACVR2A', 'commot-user_database-CCL23-CCR1', 'commot-user_database-CCL15-CCR1', 'commot-user_database-PDGFB-PDGFRA', 'commot-user_database-PDGFB-PDGFRB', 'commot-user_database-CSF1-CSF1R', 'commot-user_database-NPPB-NPR1', 'commot-user_database-CCL5-ACKR1', 'commot-user_database-CCL5-CCR5', 'commot-user_database-CCL5-CCR1', 'commot-user_database-CD40LG-ITGAM_ITGB2', 'commot-user_database-CD40LG-ITGA5_ITGB1', 'commot-user_database-CCL19-CCR7', 'commot-user_database-CCL19-ACKR4', 'commot-user_database-CXCL2-ACKR1', 'commot-user_database-CXCL2-CXCR2', 'commot-user_database-CXCL2-CXCR1', 'commot-user_database-TNFSF9-TNFRSF9', 'commot-user_database-GAS6-MERTK', 'commot-user_database-GAS6-AXL', 'commot-user_database-CXCL8-ACKR1', 'commot-user_database-CXCL8-CXCR2', 'commot-user_database-CXCL8-CXCR1', 'commot-user_database-EGF-EGFR', 'commot-user_database-EGF-EGFR_ERBB2', 'commot-user_database-PGF-FLT1', 'commot-user_database-IL16-CD4', 'commot-user_database-IGF1-IGF1R', 'commot-user_database-IGF1-ITGA6_ITGB4', 'commot-user_database-IFNB1-IFNAR1_IFNAR2', 'commot-user_database-total-total'\n",
      "The history saving thread hit an unexpected error (OperationalError('attempt to write a readonly database')).History will not be written to the database.\n"
     ]
    }
   ],
   "source": [
    "print(adata)\n",
    "adata.write_h5ad(\"./COMMOT/NSCLC.h5ad\")"
   ]
  },
  {
   "cell_type": "markdown",
   "id": "f10b6e2c-04bc-4001-bf93-68c7eab6c4a2",
   "metadata": {},
   "source": [
    "# BC dataset"
   ]
  },
  {
   "cell_type": "code",
   "execution_count": null,
   "id": "4d3f3bf1-87fa-4282-af29-8a8639428221",
   "metadata": {},
   "outputs": [],
   "source": [
    "df=pd.read_csv(\"./data/BC/BC.csv\")\n",
    "df=df[df[\"section\"]==\"sample1_rep1\"].copy()\n",
    "print(df.columns)\n",
    "genes=torch.load(\"./data/BC/genes.pth\")\n",
    "adata=ad.AnnData(X=df[genes].values)\n",
    "adata.obs[\"centerx\"]=df[\"centerx\"].values\n",
    "adata.obs[\"centery\"]=df[\"centery\"].values\n",
    "adata.obsm[\"spatial\"]=np.stack([df[\"centerx\"].values,df[\"centery\"].values],axis=-1)\n",
    "adata.var_names=genes\n",
    "print(adata)"
   ]
  },
  {
   "cell_type": "code",
   "execution_count": null,
   "id": "cdaab44a-534f-4eae-ab65-11c96ea3cdbb",
   "metadata": {},
   "outputs": [],
   "source": [
    "sc.pp.normalize_total(adata, inplace=True)\n",
    "sc.pp.log1p(adata)"
   ]
  },
  {
   "cell_type": "code",
   "execution_count": null,
   "id": "fb114d1d-8e07-4350-b5ee-b1bbb2204253",
   "metadata": {},
   "outputs": [],
   "source": [
    "df_ligrec=ct.pp.ligand_receptor_database(database='CellChat', species='human')\n",
    "print(df_ligrec)"
   ]
  },
  {
   "cell_type": "code",
   "execution_count": null,
   "id": "d3a7690a-2804-4003-8f26-70c706302866",
   "metadata": {},
   "outputs": [],
   "source": [
    "ct.tl.spatial_communication(adata, database_name='user_database', df_ligrec=df_ligrec, dis_thr=200, heteromeric=True)"
   ]
  },
  {
   "cell_type": "code",
   "execution_count": null,
   "id": "fa25bc2d-ffd8-44a4-bf39-6db46540b632",
   "metadata": {},
   "outputs": [],
   "source": [
    "print(adata)\n",
    "adata.write_h5ad(\"./COMMOT/BC.h5ad\")"
   ]
  },
  {
   "cell_type": "code",
   "execution_count": null,
   "id": "abe8c141-a4a1-4c2b-8c96-4dfda4ac43bd",
   "metadata": {},
   "outputs": [],
   "source": []
  }
 ],
 "metadata": {
  "kernelspec": {
   "display_name": "Python 3 (ipykernel)",
   "language": "python",
   "name": "python3"
  },
  "language_info": {
   "codemirror_mode": {
    "name": "ipython",
    "version": 3
   },
   "file_extension": ".py",
   "mimetype": "text/x-python",
   "name": "python",
   "nbconvert_exporter": "python",
   "pygments_lexer": "ipython3",
   "version": "3.11.11"
  }
 },
 "nbformat": 4,
 "nbformat_minor": 5
}
