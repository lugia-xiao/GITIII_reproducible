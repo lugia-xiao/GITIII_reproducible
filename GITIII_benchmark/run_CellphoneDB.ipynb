{
 "cells": [
  {
   "cell_type": "markdown",
   "id": "74d9ed87-7a5b-4d75-ae93-73a604c629ca",
   "metadata": {},
   "source": [
    "# Download CellphoneDB"
   ]
  },
  {
   "cell_type": "code",
   "execution_count": 2,
   "id": "9c149a93-f900-417a-ae15-88f11db89f8d",
   "metadata": {},
   "outputs": [
    {
     "data": {
      "text/html": [
       "<table class=\"striped\"><tr><th style=\"text-align:center\">Version</th><th style=\"text-align:center\">Release date</th></tr><td style=\"text-align:center\"><a class=\"teal-text\" href=\"https://github.com/ventolab/cellphonedb-data/releases/tag/v5.0.0\">v5.0.0</a></td><td style=\"text-align:center\">2023-10-31</td></tr><tr><td style=\"text-align:center\"><a class=\"teal-text\" href=\"https://github.com/ventolab/cellphonedb-data/releases/tag/v4.1.0\">v4.1.0</a></td><td style=\"text-align:center\">2023-03-09</td></tr><tr><tr><tr></table>"
      ],
      "text/plain": [
       "<IPython.core.display.HTML object>"
      ]
     },
     "metadata": {},
     "output_type": "display_data"
    }
   ],
   "source": [
    "from IPython.display import HTML, display\n",
    "from cellphonedb.utils import db_releases_utils\n",
    "\n",
    "display(HTML(db_releases_utils.get_remote_database_versions_html()['db_releases_html_table']))"
   ]
  },
  {
   "cell_type": "code",
   "execution_count": 4,
   "id": "98b7e596-2768-4400-bb15-2184cfc7d4e1",
   "metadata": {},
   "outputs": [],
   "source": [
    "import os\n",
    "\n",
    "# -- Version of the databse\n",
    "cpdb_version = 'v5.0.0'\n",
    "\n",
    "# -- Path where the input files to generate the database are located\n",
    "cpdb_target_dir = os.path.join('/gpfs/gibbs/project/wang_zuoheng/xx244/GITIII_benchmark/CellphoneDB/database/', cpdb_version)"
   ]
  },
  {
   "cell_type": "code",
   "execution_count": 5,
   "id": "d2fb5fbe-9057-4280-93c2-5cce79b83e53",
   "metadata": {},
   "outputs": [
    {
     "name": "stdout",
     "output_type": "stream",
     "text": [
      "Downloaded cellphonedb.zip into /gpfs/gibbs/project/wang_zuoheng/xx244/GITIII_benchmark/CellphoneDB/database/v5.0.0\n",
      "Downloaded complex_input.csv into /gpfs/gibbs/project/wang_zuoheng/xx244/GITIII_benchmark/CellphoneDB/database/v5.0.0\n",
      "Downloaded gene_input.csv into /gpfs/gibbs/project/wang_zuoheng/xx244/GITIII_benchmark/CellphoneDB/database/v5.0.0\n",
      "Downloaded interaction_input.csv into /gpfs/gibbs/project/wang_zuoheng/xx244/GITIII_benchmark/CellphoneDB/database/v5.0.0\n",
      "Downloaded protein_input.csv into /gpfs/gibbs/project/wang_zuoheng/xx244/GITIII_benchmark/CellphoneDB/database/v5.0.0\n",
      "Downloaded uniprot_synonyms.tsv into /gpfs/gibbs/project/wang_zuoheng/xx244/GITIII_benchmark/CellphoneDB/database/v5.0.0/sources\n",
      "Downloaded transcription_factor_input.csv into /gpfs/gibbs/project/wang_zuoheng/xx244/GITIII_benchmark/CellphoneDB/database/v5.0.0/sources\n"
     ]
    }
   ],
   "source": [
    "from cellphonedb.utils import db_utils\n",
    "\n",
    "db_utils.download_database(cpdb_target_dir, cpdb_version)"
   ]
  },
  {
   "cell_type": "code",
   "execution_count": 6,
   "id": "19b254a9-f059-47b5-a36c-05f67fc87ab6",
   "metadata": {},
   "outputs": [],
   "source": [
    "cpdb_file_path = '/gpfs/gibbs/project/wang_zuoheng/xx244/GITIII_benchmark/CellphoneDB/database/v5.0.0/cellphonedb.zip'"
   ]
  },
  {
   "cell_type": "markdown",
   "id": "efdad932-d8a9-4351-803f-1999f19c32b3",
   "metadata": {},
   "source": [
    "# Mouse brain dataset\n",
    "\n",
    "CellPhoneDB is for human, not for mouse.\n",
    "\n",
    "https://github.com/ventolab/CellphoneDB\n",
    "\n",
    "CellphoneDB is a publicly available repository of HUMAN curated receptors, ligands and their interactions paired with a tool to interrogate your own single-cell transcriptomics data."
   ]
  },
  {
   "cell_type": "markdown",
   "id": "1fc0a3bf-092f-4438-a5bb-afe52bc1c832",
   "metadata": {},
   "source": [
    "# AD dataset"
   ]
  },
  {
   "cell_type": "code",
   "execution_count": 16,
   "id": "aea1f405-0a7f-4825-a032-329bbee93136",
   "metadata": {},
   "outputs": [],
   "source": [
    "import pandas as pd\n",
    "import torch\n",
    "import scanpy as sc\n",
    "import anndata as ad\n",
    "import numpy as np"
   ]
  },
  {
   "cell_type": "code",
   "execution_count": 17,
   "id": "8c11e73b-9703-49a3-a6d9-5b78af36cf21",
   "metadata": {},
   "outputs": [
    {
     "name": "stdout",
     "output_type": "stream",
     "text": [
      "AnnData object with n_obs × n_vars = 15225 × 140\n",
      "    obs: 'centerx', 'centery'\n",
      "    obsm: 'spatial'\n"
     ]
    },
    {
     "name": "stderr",
     "output_type": "stream",
     "text": [
      "/tmp/ipykernel_1037190/2965759992.py:3: FutureWarning: You are using `torch.load` with `weights_only=False` (the current default value), which uses the default pickle module implicitly. It is possible to construct malicious pickle data which will execute arbitrary code during unpickling (See https://github.com/pytorch/pytorch/blob/main/SECURITY.md#untrusted-models for more details). In a future release, the default value for `weights_only` will be flipped to `True`. This limits the functions that could be executed during unpickling. Arbitrary objects will no longer be allowed to be loaded via this mode unless they are explicitly allowlisted by the user via `torch.serialization.add_safe_globals`. We recommend you start setting `weights_only=True` for any use case where you don't have full control of the loaded file. Please open an issue on GitHub for any issues related to this experimental feature.\n",
      "  genes=torch.load(\"./data/AD/genes.pth\")\n"
     ]
    }
   ],
   "source": [
    "df=pd.read_csv(\"./data/AD/AD.csv\")\n",
    "df=df[df[\"section\"]==\"H20.33.001.CX28.MTG.02.007.1.02.03\"].copy()\n",
    "genes=torch.load(\"./data/AD/genes.pth\")\n",
    "adata=ad.AnnData(X=df[genes].values)\n",
    "adata.obs[\"centerx\"]=df[\"centerx\"].values\n",
    "adata.obs[\"centery\"]=df[\"centery\"].values\n",
    "adata.obsm[\"spatial\"]=np.stack([df[\"centerx\"].values,df[\"centery\"].values],axis=-1)\n",
    "adata.var_names=genes\n",
    "print(adata)"
   ]
  },
  {
   "cell_type": "code",
   "execution_count": 18,
   "id": "90bcf4ae-edbe-4e12-973a-9fbe6ca41606",
   "metadata": {},
   "outputs": [],
   "source": [
    "sc.pp.normalize_total(adata, inplace=True)\n",
    "sc.pp.log1p(adata)\n",
    "adata.write_h5ad(\"./tmp/AD.h5ad\")"
   ]
  },
  {
   "cell_type": "code",
   "execution_count": 19,
   "id": "fcfc35dc-155b-480b-abae-6d8daf08b4d4",
   "metadata": {},
   "outputs": [],
   "source": [
    "barcodes=adata.obs_names\n",
    "cell_types=df[\"subclass\"].values\n",
    "\n",
    "# Create a DataFrame\n",
    "df = pd.DataFrame({\"barcode_sample\": barcodes, \"cell_type\": cell_types})\n",
    "# Write to a .tsv file\n",
    "df.to_csv(\"./tmp/AD_meta.tsv\", sep=\"\\t\", index=False)"
   ]
  },
  {
   "cell_type": "code",
   "execution_count": 20,
   "id": "b6d323ae-e27d-410f-8846-07a5e5ca8001",
   "metadata": {},
   "outputs": [
    {
     "name": "stdout",
     "output_type": "stream",
     "text": [
      "Reading user files...\n",
      "The following user files were loaded successfully:\n",
      "./tmp/AD.h5ad\n",
      "./tmp/AD_meta.tsv\n",
      "[ ][CORE][21/02/25-17:07:54][INFO] [Cluster Statistical Analysis] Threshold:0.1 Iterations:1000 Debug-seed:42 Threads:5 Precision:3\n",
      "[ ][CORE][21/02/25-17:07:54][WARNING] Debug random seed enabled. Set to 42\n",
      "[ ][CORE][21/02/25-17:07:56][INFO] Running Real Analysis\n",
      "[ ][CORE][21/02/25-17:07:56][INFO] Running Statistical Analysis\n"
     ]
    },
    {
     "name": "stderr",
     "output_type": "stream",
     "text": [
      "100%|██████████| 1000/1000 [00:36<00:00, 27.72it/s]"
     ]
    },
    {
     "name": "stdout",
     "output_type": "stream",
     "text": [
      "[ ][CORE][21/02/25-17:08:32][INFO] Building Pvalues result\n",
      "[ ][CORE][21/02/25-17:08:32][INFO] Building results\n",
      "[ ][CORE][21/02/25-17:08:32][INFO] Scoring interactions: Filtering genes per cell type..\n"
     ]
    },
    {
     "name": "stderr",
     "output_type": "stream",
     "text": [
      "\n",
      "100%|██████████| 24/24 [00:00<00:00, 204.02it/s]"
     ]
    },
    {
     "name": "stdout",
     "output_type": "stream",
     "text": [
      "[ ][CORE][21/02/25-17:08:32][INFO] Scoring interactions: Calculating mean expression of each gene per group/cell type..\n"
     ]
    },
    {
     "name": "stderr",
     "output_type": "stream",
     "text": [
      "\n",
      "\n",
      "00%|██████████| 24/24 [00:00<00:00, 551.80it/s]"
     ]
    },
    {
     "name": "stdout",
     "output_type": "stream",
     "text": [
      "[ ][CORE][21/02/25-17:08:32][INFO] Scoring interactions: Calculating scores for all interactions and cell types..\n"
     ]
    },
    {
     "name": "stderr",
     "output_type": "stream",
     "text": [
      "\n",
      "00%|██████████| 576/576 [00:00<00:00, 711.99it/s]"
     ]
    },
    {
     "name": "stdout",
     "output_type": "stream",
     "text": [
      "Saved deconvoluted to /gpfs/gibbs/project/wang_zuoheng/xx244/GITIII_benchmark/CellphoneDB/AD/statistical_analysis_deconvoluted_02_21_2025_170834.txt\n",
      "Saved deconvoluted_percents to /gpfs/gibbs/project/wang_zuoheng/xx244/GITIII_benchmark/CellphoneDB/AD/statistical_analysis_deconvoluted_percents_02_21_2025_170834.txt\n",
      "Saved means to /gpfs/gibbs/project/wang_zuoheng/xx244/GITIII_benchmark/CellphoneDB/AD/statistical_analysis_means_02_21_2025_170834.txt\n",
      "Saved pvalues to /gpfs/gibbs/project/wang_zuoheng/xx244/GITIII_benchmark/CellphoneDB/AD/statistical_analysis_pvalues_02_21_2025_170834.txt\n",
      "Saved significant_means to /gpfs/gibbs/project/wang_zuoheng/xx244/GITIII_benchmark/CellphoneDB/AD/statistical_analysis_significant_means_02_21_2025_170834.txt\n",
      "Saved interaction_scores to /gpfs/gibbs/project/wang_zuoheng/xx244/GITIII_benchmark/CellphoneDB/AD/statistical_analysis_interaction_scores_02_21_2025_170834.txt\n"
     ]
    }
   ],
   "source": [
    "from cellphonedb.src.core.methods import cpdb_statistical_analysis_method\n",
    "\n",
    "meta_file_path = \"./tmp/AD_meta.tsv\"\n",
    "counts_file_path = \"./tmp/AD.h5ad\"\n",
    "out_path = '/gpfs/gibbs/project/wang_zuoheng/xx244/GITIII_benchmark/CellphoneDB/AD/'\n",
    "\n",
    "cpdb_results = cpdb_statistical_analysis_method.call(\n",
    "    cpdb_file_path = cpdb_file_path,                 # mandatory: CellphoneDB database zip file.\n",
    "    meta_file_path = meta_file_path,                 # mandatory: tsv file defining barcodes to cell label.\n",
    "    counts_file_path = counts_file_path,             # mandatory: normalized count matrix - a path to the counts file, or an in-memory AnnData object\n",
    "    counts_data = 'hgnc_symbol',                     # defines the gene annotation in counts matrix.\n",
    "    score_interactions = True,                       # optional: whether to score interactions or not. \n",
    "    iterations = 1000,                               # denotes the number of shufflings performed in the analysis.\n",
    "    threshold = 0.1,                                 # defines the min % of cells expressing a gene for this to be employed in the analysis.\n",
    "    threads = 5,                                     # number of threads to use in the analysis.\n",
    "    debug_seed = 42,                                 # debug randome seed. To disable >=0.\n",
    "    result_precision = 3,                            # Sets the rounding for the mean values in significan_means.\n",
    "    pvalue = 0.05,                                   # P-value threshold to employ for significance.\n",
    "    subsampling = False,                             # To enable subsampling the data (geometri sketching).\n",
    "    subsampling_log = False,                         # (mandatory) enable subsampling log1p for non log-transformed data inputs.\n",
    "    subsampling_num_pc = 100,                        # Number of componets to subsample via geometric skectching (dafault: 100).\n",
    "    subsampling_num_cells = 1000,                    # Number of cells to subsample (integer) (default: 1/3 of the dataset).\n",
    "    separator = '|',                                 # Sets the string to employ to separate cells in the results dataframes \"cellA|CellB\".\n",
    "    debug = False,                                   # Saves all intermediate tables employed during the analysis in pkl format.\n",
    "    output_path = out_path,                          # Path to save results.\n",
    "    output_suffix = None                             # Replaces the timestamp in the output files by a user defined string in the  (default: None).\n",
    "    )"
   ]
  },
  {
   "cell_type": "code",
   "execution_count": 23,
   "id": "8dcc498a-9688-489d-9ae5-f2045c7895f1",
   "metadata": {},
   "outputs": [],
   "source": [
    "cpdb_results['pvalues'].head(5)\n",
    "torch.save(cpdb_results,\"./CellphoneDB/AD.pth\")"
   ]
  },
  {
   "cell_type": "markdown",
   "id": "993fe721-db56-46ac-bd8a-e540cde722db",
   "metadata": {},
   "source": [
    "# NSCLC"
   ]
  },
  {
   "cell_type": "code",
   "execution_count": 1,
   "id": "55dcacaa-8de7-452e-99ff-e687b5d55d90",
   "metadata": {},
   "outputs": [],
   "source": [
    "import pandas as pd\n",
    "import numpy as np\n",
    "\n",
    "df=pd.read_csv(\"./data/NSCLC/NSCLC.csv\")\n",
    "cell_types=df[\"CellType\"].values\n",
    "cell_types_new=[]\n",
    "for i in cell_types:\n",
    "    tmp=i\n",
    "    if i.find(\"tumor\")>=0:\n",
    "        tmp=\"tumor\"\n",
    "    cell_types_new.append(tmp)\n",
    "\n",
    "df.loc[:,\"CellType\"]=cell_types_new\n",
    "df.to_csv(\"./data/NSCLC/NSCLC.csv\")"
   ]
  },
  {
   "cell_type": "code",
   "execution_count": 24,
   "id": "0ece3d76-a3ec-4883-8332-0185adc18ef7",
   "metadata": {},
   "outputs": [
    {
     "name": "stdout",
     "output_type": "stream",
     "text": [
      "The history saving thread hit an unexpected error (OperationalError('attempt to write a readonly database')).History will not be written to the database.\n",
      "Index(['fov', 'cell_ID', 'AATK', 'ABL1', 'ABL2', 'ACE', 'ACE2', 'ACKR1',\n",
      "       'ACKR3', 'ACKR4',\n",
      "       ...\n",
      "       'SampleID', 'Area', 'AspectRatio', 'CenterX_local_px',\n",
      "       'CenterY_local_px', 'CenterX_global_px', 'CenterY_global_px', 'Width',\n",
      "       'Height', 'section'],\n",
      "      dtype='object', length=974)\n",
      "AnnData object with n_obs × n_vars = 89948 × 960\n",
      "    obs: 'centerx', 'centery'\n",
      "    obsm: 'spatial'\n"
     ]
    }
   ],
   "source": [
    "df=pd.read_csv(\"./data/NSCLC/NSCLC.csv\")\n",
    "df=df[df[\"section\"]==\"Lung6\"].copy()\n",
    "print(df.columns)\n",
    "genes=torch.load(\"./data/NSCLC/genes.pth\")\n",
    "adata=ad.AnnData(X=df[genes].values)\n",
    "adata.obs[\"centerx\"]=df['CenterX_global_px'].values\n",
    "adata.obs[\"centery\"]=df['CenterY_global_px'].values\n",
    "adata.obsm[\"spatial\"]=np.stack([df['CenterX_global_px'].values,df['CenterY_global_px'].values],axis=-1)\n",
    "adata.var_names=genes\n",
    "print(adata)"
   ]
  },
  {
   "cell_type": "code",
   "execution_count": null,
   "id": "b680930b-023b-488b-a75d-dfbb1d4480ac",
   "metadata": {},
   "outputs": [],
   "source": [
    "sc.pp.normalize_total(adata, inplace=True)\n",
    "sc.pp.log1p(adata)\n",
    "adata.write_h5ad(\"./tmp/NSCLC.h5ad\")\n",
    "\n",
    "barcodes=adata.obs_names\n",
    "cell_types=df[\"CellType\"].values #!!!!!!!!!!!!!!!!!!!!!!!!!\n",
    "\n",
    "# Create a DataFrame\n",
    "df = pd.DataFrame({\"barcode_sample\": barcodes, \"cell_type\": cell_types})\n",
    "# Write to a .tsv file\n",
    "df.to_csv(\"./tmp/NSCLC_meta.tsv\", sep=\"\\t\", index=False)\n",
    "\n",
    "from cellphonedb.src.core.methods import cpdb_statistical_analysis_method\n",
    "\n",
    "meta_file_path = \"./tmp/NSCLC_meta.tsv\"\n",
    "counts_file_path = \"./tmp/NSCLC.h5ad\"\n",
    "out_path = '/gpfs/gibbs/project/wang_zuoheng/xx244/GITIII_benchmark/CellphoneDB/NSCLC/'\n",
    "\n",
    "cpdb_results = cpdb_statistical_analysis_method.call(\n",
    "    cpdb_file_path = cpdb_file_path,                 # mandatory: CellphoneDB database zip file.\n",
    "    meta_file_path = meta_file_path,                 # mandatory: tsv file defining barcodes to cell label.\n",
    "    counts_file_path = counts_file_path,             # mandatory: normalized count matrix - a path to the counts file, or an in-memory AnnData object\n",
    "    counts_data = 'hgnc_symbol',                     # defines the gene annotation in counts matrix.\n",
    "    score_interactions = True,                       # optional: whether to score interactions or not. \n",
    "    iterations = 1000,                               # denotes the number of shufflings performed in the analysis.\n",
    "    threshold = 0.1,                                 # defines the min % of cells expressing a gene for this to be employed in the analysis.\n",
    "    threads = 5,                                     # number of threads to use in the analysis.\n",
    "    debug_seed = 42,                                 # debug randome seed. To disable >=0.\n",
    "    result_precision = 3,                            # Sets the rounding for the mean values in significan_means.\n",
    "    pvalue = 0.05,                                   # P-value threshold to employ for significance.\n",
    "    subsampling = False,                             # To enable subsampling the data (geometri sketching).\n",
    "    subsampling_log = False,                         # (mandatory) enable subsampling log1p for non log-transformed data inputs.\n",
    "    subsampling_num_pc = 100,                        # Number of componets to subsample via geometric skectching (dafault: 100).\n",
    "    subsampling_num_cells = 1000,                    # Number of cells to subsample (integer) (default: 1/3 of the dataset).\n",
    "    separator = '|',                                 # Sets the string to employ to separate cells in the results dataframes \"cellA|CellB\".\n",
    "    debug = False,                                   # Saves all intermediate tables employed during the analysis in pkl format.\n",
    "    output_path = out_path,                          # Path to save results.\n",
    "    output_suffix = None                             # Replaces the timestamp in the output files by a user defined string in the  (default: None).\n",
    "    )\n",
    "\n",
    "cpdb_results['pvalues'].head(5)\n",
    "torch.save(cpdb_results,\"./CellphoneDB/NSCLC.pth\")"
   ]
  },
  {
   "cell_type": "markdown",
   "id": "dd950e4e-38bc-4a56-acd1-3b84f0ad4d9d",
   "metadata": {},
   "source": [
    "# BC"
   ]
  },
  {
   "cell_type": "code",
   "execution_count": 32,
   "id": "4e985162-6c80-45aa-9db7-e8bb35000af2",
   "metadata": {},
   "outputs": [
    {
     "name": "stdout",
     "output_type": "stream",
     "text": [
      "Index(['Unnamed: 0', 'ABCC11', 'ACTA2', 'ACTG2', 'ADAM9', 'ADGRE5', 'ADH1B',\n",
      "       'ADIPOQ', 'AGR3', 'AHSP',\n",
      "       ...\n",
      "       'antisense_TRMU', 'antisense_MYLIP', 'antisense_LGI3',\n",
      "       'antisense_BCL2L15', 'antisense_ADCY4', 'centerx', 'centery',\n",
      "       'subclass', 'index', 'section'],\n",
      "      dtype='object', length=327)\n",
      "['ABCC11', 'ACTA2', 'ACTG2', 'ADAM9', 'ADGRE5', 'ADH1B', 'ADIPOQ', 'AGR3', 'AHSP', 'AIF1', 'AKR1C1', 'AKR1C3', 'ALDH1A3', 'ANGPT2', 'ANKRD28', 'ANKRD29', 'ANKRD30A', 'APOBEC3A', 'APOBEC3B', 'APOC1', 'AQP1', 'AQP3', 'AR', 'AVPR1A', 'BACE2', 'BANK1', 'BASP1', 'BTNL9', 'C15orf48', 'C1QA', 'C1QC', 'C2orf42', 'C5orf46', 'C6orf132', 'CAV1', 'CAVIN2', 'CCDC6', 'CCDC80', 'CCL20', 'CCL5', 'CCL8', 'CCND1', 'CCPG1', 'CCR7', 'CD14', 'CD163', 'CD19', 'CD1C', 'CD247', 'CD27', 'CD274', 'CD3D', 'CD3E', 'CD3G', 'CD4', 'CD68', 'CD69', 'CD79A', 'CD79B', 'CD80', 'CD83', 'CD86', 'CD8A', 'CD8B', 'CD9', 'CD93', 'CDC42EP1', 'CDH1', 'CEACAM6', 'CEACAM8', 'CENPF', 'CLCA2', 'CLDN4', 'CLDN5', 'CLEC14A', 'CLEC9A', 'CLECL1', 'CLIC6', 'CPA3', 'CRHBP', 'CRISPLD2', 'CSF3', 'CTH', 'CTLA4', 'CTSG', 'CTTN', 'CX3CR1', 'CXCL12', 'CXCL16', 'CXCL5', 'CXCR4', 'CYP1A1', 'CYTIP', 'DAPK3', 'DERL3', 'DMKN', 'DNAAF1', 'DNTTIP1', 'DPT', 'DSC2', 'DSP', 'DST', 'DUSP2', 'DUSP5', 'EDN1', 'EDNRB', 'EGFL7', 'EGFR', 'EIF4EBP1', 'ELF3', 'ELF5', 'ENAH', 'EPCAM', 'ERBB2', 'ERN1', 'ESM1', 'ESR1', 'FAM107B', 'FAM49A', 'FASN', 'FBLIM1', 'FBLN1', 'FCER1A', 'FCER1G', 'FCGR3A', 'FGL2', 'FLNB', 'FOXA1', 'FOXC2', 'FOXP3', 'FSTL3', 'GATA3', 'GJB2', 'GLIPR1', 'GNLY', 'GPR183', 'GZMA', 'GZMB', 'GZMK', 'HAVCR2', 'HDC', 'HMGA1', 'HOOK2', 'HOXD8', 'HOXD9', 'HPX', 'IGF1', 'IGSF6', 'IL2RA', 'IL2RG', 'IL3RA', 'IL7R', 'ITGAM', 'ITGAX', 'ITM2C', 'JUP', 'KARS', 'KDR', 'KIT', 'KLF5', 'KLRB1', 'KLRC1', 'KLRD1', 'KLRF1', 'KRT14', 'KRT15', 'KRT16', 'KRT23', 'KRT5', 'KRT6B', 'KRT7', 'KRT8', 'LAG3', 'LARS', 'LDHB', 'LEP', 'LGALSL', 'LIF', 'LILRA4', 'LPL', 'LPXN', 'LRRC15', 'LTB', 'LUM', 'LY86', 'LYPD3', 'LYZ', 'MAP3K8', 'MDM2', 'MEDAG', 'MKI67', 'MLPH', 'MMP1', 'MMP12', 'MMP2', 'MMRN2', 'MNDA', 'MPO', 'MRC1', 'MS4A1', 'MUC6', 'MYBPC1', 'MYH11', 'MYLK', 'MYO5B', 'MZB1', 'NARS', 'NCAM1', 'NDUFA4L2', 'NKG7', 'NOSTRIN', 'NPM3', 'OCIAD2', 'OPRPN', 'OXTR', 'PCLAF', 'PCOLCE', 'PDCD1', 'PDCD1LG2', 'PDE4A', 'PDGFRA', 'PDGFRB', 'PDK4', 'PECAM1', 'PELI1', 'PGR', 'PIGR', 'PIM1', 'PLD4', 'POLR2J3', 'POSTN', 'PPARG', 'PRDM1', 'PRF1', 'PTGDS', 'PTN', 'PTPRC', 'PTRHD1', 'QARS', 'RAB30', 'RAMP2', 'RAPGEF3', 'REXO4', 'RHOH', 'RORC', 'RTKN2', 'RUNX1', 'S100A14', 'S100A4', 'S100A8', 'SCD', 'SCGB2A1', 'SDC4', 'SEC11C', 'SEC24A', 'SELL', 'SERHL2', 'SERPINA3', 'SERPINB9', 'SFRP1', 'SFRP4', 'SH3YL1', 'SLAMF1', 'SLAMF7', 'SLC25A37', 'SLC4A1', 'SLC5A6', 'SMAP2', 'SMS', 'SNAI1', 'SOX17', 'SOX18', 'SPIB', 'SQLE', 'SRPK1', 'SSTR2', 'STC1', 'SVIL', 'TAC1', 'TACSTD2', 'TCEAL7', 'TCF15', 'TCF4', 'TCF7', 'TCIM', 'TCL1A', 'TENT5C', 'TFAP2A', 'THAP2', 'TIFA', 'TIGIT', 'TIMP4', 'TMEM147', 'TNFRSF17', 'TOMM7', 'TOP2A', 'TPD52', 'TPSAB1', 'TRAC', 'TRAF4', 'TRAPPC3', 'TRIB1', 'TUBA4A', 'TUBB2B', 'TYROBP', 'UCP1', 'USP53', 'VOPP1', 'VWF', 'WARS', 'ZEB1', 'ZEB2', 'ZNF562', 'antisense_PROKR2', 'antisense_ULK3', 'antisense_SCRIB', 'antisense_TRMU', 'antisense_MYLIP', 'antisense_LGI3', 'antisense_BCL2L15', 'antisense_ADCY4']\n",
      "AnnData object with n_obs × n_vars = 167780 × 321\n",
      "    obs: 'centerx', 'centery'\n",
      "    obsm: 'spatial'\n"
     ]
    }
   ],
   "source": [
    "df=pd.read_csv(\"./data/BC/BC.csv\")\n",
    "df=df[df[\"section\"]==\"sample1_rep1\"].copy()\n",
    "print(df.columns)\n",
    "genes=torch.load(\"./data/BC/genes.pth\")\n",
    "print(genes)\n",
    "adata=ad.AnnData(X=df[genes].values)\n",
    "adata.obs[\"centerx\"]=df[\"centerx\"].values\n",
    "adata.obs[\"centery\"]=df[\"centery\"].values\n",
    "adata.obsm[\"spatial\"]=np.stack([df[\"centerx\"].values,df[\"centery\"].values],axis=-1)\n",
    "adata.var_names=genes\n",
    "print(adata)"
   ]
  },
  {
   "cell_type": "code",
   "execution_count": null,
   "id": "86bdf55e-d766-4f89-9b57-d9a68384ffff",
   "metadata": {},
   "outputs": [],
   "source": [
    "sc.pp.normalize_total(adata, inplace=True)\n",
    "sc.pp.log1p(adata)\n",
    "adata.write_h5ad(\"./tmp/BC.h5ad\")\n",
    "\n",
    "barcodes=adata.obs_names\n",
    "cell_types=df[\"subclass\"].values #!!!!!!!!!!!!!!!!!!!!!!!!!\n",
    "\n",
    "# Create a DataFrame\n",
    "df = pd.DataFrame({\"barcode_sample\": barcodes, \"cell_type\": cell_types})\n",
    "# Write to a .tsv file\n",
    "df.to_csv(\"./tmp/BC_meta.tsv\", sep=\"\\t\", index=False)\n",
    "\n",
    "from cellphonedb.src.core.methods import cpdb_statistical_analysis_method\n",
    "\n",
    "meta_file_path = \"./tmp/BC_meta.tsv\"\n",
    "counts_file_path = \"./tmp/BC.h5ad\"\n",
    "out_path = '/gpfs/gibbs/project/wang_zuoheng/xx244/GITIII_benchmark/CellphoneDB/BC/'\n",
    "\n",
    "cpdb_results = cpdb_statistical_analysis_method.call(\n",
    "    cpdb_file_path = cpdb_file_path,                 # mandatory: CellphoneDB database zip file.\n",
    "    meta_file_path = meta_file_path,                 # mandatory: tsv file defining barcodes to cell label.\n",
    "    counts_file_path = counts_file_path,             # mandatory: normalized count matrix - a path to the counts file, or an in-memory AnnData object\n",
    "    counts_data = 'hgnc_symbol',                     # defines the gene annotation in counts matrix.\n",
    "    score_interactions = True,                       # optional: whether to score interactions or not. \n",
    "    iterations = 1000,                               # denotes the number of shufflings performed in the analysis.\n",
    "    threshold = 0.1,                                 # defines the min % of cells expressing a gene for this to be employed in the analysis.\n",
    "    threads = 5,                                     # number of threads to use in the analysis.\n",
    "    debug_seed = 42,                                 # debug randome seed. To disable >=0.\n",
    "    result_precision = 3,                            # Sets the rounding for the mean values in significan_means.\n",
    "    pvalue = 0.05,                                   # P-value threshold to employ for significance.\n",
    "    subsampling = False,                             # To enable subsampling the data (geometri sketching).\n",
    "    subsampling_log = False,                         # (mandatory) enable subsampling log1p for non log-transformed data inputs.\n",
    "    subsampling_num_pc = 100,                        # Number of componets to subsample via geometric skectching (dafault: 100).\n",
    "    subsampling_num_cells = 1000,                    # Number of cells to subsample (integer) (default: 1/3 of the dataset).\n",
    "    separator = '|',                                 # Sets the string to employ to separate cells in the results dataframes \"cellA|CellB\".\n",
    "    debug = False,                                   # Saves all intermediate tables employed during the analysis in pkl format.\n",
    "    output_path = out_path,                          # Path to save results.\n",
    "    output_suffix = None                             # Replaces the timestamp in the output files by a user defined string in the  (default: None).\n",
    "    )\n",
    "\n",
    "cpdb_results['pvalues'].head(5)\n",
    "torch.save(cpdb_results,\"./CellphoneDB/BC.pth\")"
   ]
  }
 ],
 "metadata": {
  "kernelspec": {
   "display_name": "Python 3 (ipykernel)",
   "language": "python",
   "name": "python3"
  },
  "language_info": {
   "codemirror_mode": {
    "name": "ipython",
    "version": 3
   },
   "file_extension": ".py",
   "mimetype": "text/x-python",
   "name": "python",
   "nbconvert_exporter": "python",
   "pygments_lexer": "ipython3",
   "version": "3.11.11"
  }
 },
 "nbformat": 4,
 "nbformat_minor": 5
}
