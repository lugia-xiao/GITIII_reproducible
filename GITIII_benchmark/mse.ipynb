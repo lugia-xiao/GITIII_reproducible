{
 "cells": [
  {
   "cell_type": "code",
   "execution_count": 1,
   "id": "c1c2627b-c3df-49b1-a5b2-a4adc5f36a70",
   "metadata": {},
   "outputs": [],
   "source": [
    "import torch\n",
    "import pandas as pd\n",
    "import os\n",
    "import scanpy as sc"
   ]
  },
  {
   "cell_type": "markdown",
   "id": "3c2d427b-c353-4612-a01e-20f7979e0266",
   "metadata": {},
   "source": [
    "# Mouse brain"
   ]
  },
  {
   "cell_type": "code",
   "execution_count": 2,
   "id": "eff31795-3701-4399-b053-d7a509151f38",
   "metadata": {},
   "outputs": [],
   "source": [
    "# COMMOT\n",
    "adata=sc.read_h5ad(\"./COMMOT/mouse.h5ad\")"
   ]
  },
  {
   "cell_type": "code",
   "execution_count": 3,
   "id": "f5b74b7c-1780-4bfb-aa56-7a7b5b631b59",
   "metadata": {},
   "outputs": [
    {
     "name": "stdout",
     "output_type": "stream",
     "text": [
      "      r-Vip-Vipr2  r-Prok2-Prokr2  r-Pdgfc-Pdgfra  r-Penk-Oprk1  r-total-total\n",
      "0        0.000000             0.0        0.000000      0.000000       0.000000\n",
      "1        0.000000             0.0        0.000000      0.000000       0.000000\n",
      "2        0.000000             0.0        0.343711      0.525687       0.869399\n",
      "3        0.000000             0.0        0.000000      0.000000       0.000000\n",
      "4        0.000000             0.0        1.437130      0.000000       1.437130\n",
      "...           ...             ...             ...           ...            ...\n",
      "6132     0.000000             0.0        0.662891      0.664754       1.327645\n",
      "6133     0.321654             0.0        0.321632      0.321654       0.964940\n",
      "6134     0.000000             0.0        0.000000      0.000000       0.000000\n",
      "6135     0.000000             0.0        0.000000      0.000000       0.000000\n",
      "6136     0.000000             0.0        0.000000      0.000000       0.000000\n",
      "\n",
      "[6137 rows x 5 columns]\n"
     ]
    }
   ],
   "source": [
    "print(adata.obsm['commot-user_database-sum-receiver'])"
   ]
  },
  {
   "cell_type": "code",
   "execution_count": 4,
   "id": "ec8a7a24-b5df-426b-be5e-b6ff68605ffe",
   "metadata": {},
   "outputs": [
    {
     "name": "stdout",
     "output_type": "stream",
     "text": [
      "(6137, 425)\n"
     ]
    }
   ],
   "source": [
    "cell_states_df=pd.read_csv(\"/vast/palmer/scratch/wang_zuoheng/xx244/GITIII_backup/data/Mouse_brain/processed1/mouse1_slice201.csv\")\n",
    "print(cell_states_df.shape)"
   ]
  },
  {
   "cell_type": "code",
   "execution_count": 5,
   "id": "1fc7c491-64c2-45d8-82ef-29f26acb880c",
   "metadata": {},
   "outputs": [],
   "source": [
    "genes=torch.load(\"./data/mouse/genes.pth\")\n",
    "cell_states=cell_states_df.loc[:,genes].values"
   ]
  },
  {
   "cell_type": "code",
   "execution_count": 6,
   "id": "1378c95c-06b8-4fd5-9379-6a86d6941231",
   "metadata": {},
   "outputs": [
    {
     "name": "stdout",
     "output_type": "stream",
     "text": [
      "(6137, 254)\n"
     ]
    }
   ],
   "source": [
    "print(cell_states.shape)"
   ]
  },
  {
   "cell_type": "code",
   "execution_count": 7,
   "id": "b7299162-f4ab-48b8-b325-65672397907b",
   "metadata": {},
   "outputs": [],
   "source": [
    "import numpy as np\n",
    "from sklearn.model_selection import train_test_split\n",
    "from sklearn.linear_model import LinearRegression\n",
    "from sklearn.metrics import mean_squared_error\n",
    "\n",
    "def fit_linear_regression(data_matrix, target_matrix):\n",
    "    \"\"\"\n",
    "    Fit a linear regression model using the data matrix to predict the target matrix.\n",
    "    Splits data into training and validation sets (4:1 ratio), fits the model, \n",
    "    and calculates the mean squared error (MSE) loss.\n",
    "    \n",
    "    Parameters:\n",
    "    data_matrix (numpy.ndarray): Shape (n, c1), input features.\n",
    "    target_matrix (numpy.ndarray): Shape (n, c2), target values.\n",
    "\n",
    "    Returns:\n",
    "    tuple: (validation_mse, total_target_mse)\n",
    "    \"\"\"\n",
    "    # Split data into training (80%) and validation (20%) sets\n",
    "    X_train, X_val, y_train, y_val = train_test_split(data_matrix, target_matrix, test_size=0.2, random_state=42)\n",
    "\n",
    "    # Fit linear regression model\n",
    "    model = LinearRegression()\n",
    "    model.fit(X_train, y_train)\n",
    "\n",
    "    # Predict on validation set\n",
    "    y_pred = model.predict(X_val)\n",
    "\n",
    "    # Compute MSE loss on validation set\n",
    "    validation_mse = mean_squared_error(y_val, y_pred)\n",
    "    print(f\"Validation MSE: {validation_mse:.6f}\")\n",
    "\n",
    "    # Compute total variance of target (MSE from mean predictor)\n",
    "    total_target_mse = mean_squared_error(target_matrix, np.zeros_like(target_matrix))\n",
    "    print(f\"Total Target MSE: {total_target_mse:.6f}\")\n",
    "\n",
    "    return validation_mse, total_target_mse"
   ]
  },
  {
   "cell_type": "code",
   "execution_count": 8,
   "id": "bf70e7d3-18c4-4ee8-8618-a21c2e61425f",
   "metadata": {},
   "outputs": [
    {
     "name": "stdout",
     "output_type": "stream",
     "text": [
      "Validation MSE: 0.172656\n",
      "Total Target MSE: 0.175501\n",
      "variance_explained: 0.00284529540641279\n"
     ]
    }
   ],
   "source": [
    "mse_commot=fit_linear_regression(data_matrix=adata.obsm['commot-user_database-sum-receiver'].values, target_matrix=cell_states)\n",
    "print(\"variance_explained:\",mse_commot[1]-mse_commot[0])"
   ]
  },
  {
   "cell_type": "code",
   "execution_count": 9,
   "id": "27170185-709d-46fe-8033-9b24b5da5599",
   "metadata": {},
   "outputs": [],
   "source": [
    "# GITIII\n",
    "results=torch.load(\"/vast/palmer/scratch/wang_zuoheng/xx244/GITIII_backup/Mouse_brain_evaluate/edges/\"+\"edges_mouse1_slice201.pth\",map_location=torch.device('cpu'), weights_only=False)"
   ]
  },
  {
   "cell_type": "code",
   "execution_count": 10,
   "id": "f95bd625-936e-4241-8e21-29cd30222006",
   "metadata": {},
   "outputs": [
    {
     "name": "stdout",
     "output_type": "stream",
     "text": [
      "tensor(0.1755) tensor(0.1435) tensor(0.0320)\n"
     ]
    }
   ],
   "source": [
    "all_variance=torch.mean(torch.square(results[\"y\"]))\n",
    "mse_GITIII=torch.mean(torch.square(results[\"y\"]-results[\"y_pred\"]))\n",
    "print(all_variance,mse_GITIII,all_variance-mse_GITIII)"
   ]
  },
  {
   "cell_type": "markdown",
   "id": "44495246-1a78-44f9-b946-e73a6a097958",
   "metadata": {},
   "source": [
    "# NSCLC"
   ]
  },
  {
   "cell_type": "code",
   "execution_count": 25,
   "id": "a1d53299-061d-4b35-9129-d9d11d1c5170",
   "metadata": {},
   "outputs": [
    {
     "name": "stdout",
     "output_type": "stream",
     "text": [
      "Validation MSE: 0.082926\n",
      "Total Target MSE: 0.092379\n",
      "variance_explained: 0.009453542227465847\n"
     ]
    }
   ],
   "source": [
    "# COMMOT\n",
    "adata=sc.read_h5ad(\"./COMMOT/NSCLC.h5ad\")\n",
    "\n",
    "cell_states_df=pd.read_csv(\"/vast/palmer/scratch/wang_zuoheng/xx244/GITIII_backup/data/NSCLC/processed1/Lung6.csv\")\n",
    "genes=torch.load(\"./data/NSCLC/genes.pth\")\n",
    "cell_states=cell_states_df.loc[:,genes].values\n",
    "\n",
    "mse_commot=fit_linear_regression(data_matrix=adata.obsm['commot-user_database-sum-receiver'].values, target_matrix=cell_states)\n",
    "print(\"variance_explained:\",mse_commot[1]-mse_commot[0])"
   ]
  },
  {
   "cell_type": "code",
   "execution_count": 26,
   "id": "09aea1e0-5077-4787-bded-03b450f3e552",
   "metadata": {},
   "outputs": [],
   "source": [
    "# GITIII\n",
    "results=torch.load(\"/vast/palmer/scratch/wang_zuoheng/xx244/GITIII_backup/NSCLC_evaluate/edges/\"+\"edges_Lung6.pth\",map_location=torch.device('cpu'), weights_only=False)"
   ]
  },
  {
   "cell_type": "code",
   "execution_count": 27,
   "id": "a6e67d80-75fb-4c54-bc80-69dea79b773a",
   "metadata": {},
   "outputs": [
    {
     "name": "stdout",
     "output_type": "stream",
     "text": [
      "tensor(0.0156)\n"
     ]
    }
   ],
   "source": [
    "all_variance=torch.mean(torch.square(results[\"y\"]))\n",
    "mse_GITIII=torch.mean(torch.square(results[\"y\"]-results[\"y_pred\"]))\n",
    "print(all_variance-mse_GITIII)"
   ]
  },
  {
   "cell_type": "markdown",
   "id": "435f5ef1-3dd0-48c5-9ec0-4051877f4614",
   "metadata": {},
   "source": [
    "# BC"
   ]
  },
  {
   "cell_type": "code",
   "execution_count": 31,
   "id": "02a92950-c5c5-4c32-ad45-fac0d936ff3f",
   "metadata": {},
   "outputs": [
    {
     "name": "stdout",
     "output_type": "stream",
     "text": [
      "Validation MSE: 0.131581\n",
      "Total Target MSE: 0.133038\n",
      "variance_explained: 0.0014569300435102184\n"
     ]
    }
   ],
   "source": [
    "# COMMOT\n",
    "adata=sc.read_h5ad(\"./COMMOT/BC.h5ad\")\n",
    "\n",
    "cell_states_df=pd.read_csv(\"/vast/palmer/scratch/wang_zuoheng/xx244/GITIII_backup/data/BC/processed1/sample1_rep1.csv\")\n",
    "genes=torch.load(\"./data/BC/genes.pth\")\n",
    "cell_states=cell_states_df.loc[:,genes].values\n",
    "\n",
    "mse_commot=fit_linear_regression(data_matrix=adata.obsm['commot-user_database-sum-receiver'].values, target_matrix=cell_states)\n",
    "print(\"variance_explained:\",mse_commot[1]-mse_commot[0])"
   ]
  },
  {
   "cell_type": "code",
   "execution_count": 33,
   "id": "f6e4aa20-c3f0-498d-a150-0098e1cf833e",
   "metadata": {},
   "outputs": [],
   "source": [
    "# GITIII\n",
    "results=torch.load(\"/vast/palmer/scratch/wang_zuoheng/xx244/GITIII_backup/BC_evaluate/edges/\"+\"edges_sample1_rep1.pth\",map_location=torch.device('cpu'), weights_only=False)"
   ]
  },
  {
   "cell_type": "code",
   "execution_count": 34,
   "id": "394cebd1-e710-4f8c-9bc0-4aa25eddae70",
   "metadata": {},
   "outputs": [
    {
     "name": "stdout",
     "output_type": "stream",
     "text": [
      "tensor(0.0307)\n"
     ]
    }
   ],
   "source": [
    "all_variance=torch.mean(torch.square(results[\"y\"]))\n",
    "mse_GITIII=torch.mean(torch.square(results[\"y\"]-results[\"y_pred\"]))\n",
    "print(all_variance-mse_GITIII)"
   ]
  },
  {
   "cell_type": "code",
   "execution_count": null,
   "id": "6969ccfd-2e0b-42d6-9013-15c5e0db3f82",
   "metadata": {},
   "outputs": [],
   "source": []
  },
  {
   "cell_type": "code",
   "execution_count": null,
   "id": "a51231f3-1c25-4562-9b18-12d8e3be3c2f",
   "metadata": {},
   "outputs": [],
   "source": []
  }
 ],
 "metadata": {
  "kernelspec": {
   "display_name": "Python 3 (ipykernel)",
   "language": "python",
   "name": "python3"
  },
  "language_info": {
   "codemirror_mode": {
    "name": "ipython",
    "version": 3
   },
   "file_extension": ".py",
   "mimetype": "text/x-python",
   "name": "python",
   "nbconvert_exporter": "python",
   "pygments_lexer": "ipython3",
   "version": "3.11.11"
  }
 },
 "nbformat": 4,
 "nbformat_minor": 5
}
